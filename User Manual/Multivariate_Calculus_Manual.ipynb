{
 "cells": [
  {
   "cell_type": "markdown",
   "metadata": {},
   "source": [
    "# Multivariate Calculus Manual"
   ]
  },
  {
   "cell_type": "markdown",
   "metadata": {},
   "source": [
    "## Imports"
   ]
  },
  {
   "cell_type": "markdown",
   "metadata": {},
   "source": [
    "<p>Some useful imports before we start:</p>\n",
    "<ul>\n",
    "    <li><i>axiomathbf.multivariate_calculus</i> to solve problems from Math 200.</li>\n",
    "    <li>Other libraries such as: <i>sympy 1.5</i>, <i>numpy 1.17.4</i>, and, <i>matplotlib.pyplot 3.1.1</i> are supplied by the library above, but assure that you have it downloaded and have the current version.</li>\n",
    "    <li> I've also used the nb_black extension for Jupyter Notebook, so make sure you have it installed, or delete the %reload_ext nb_black to continue without errors. The reason I included was to format the code well in pep8 style. </li>\n",
    "</ul>"
   ]
  },
  {
   "cell_type": "code",
   "execution_count": 1,
   "metadata": {},
   "outputs": [
    {
     "data": {
      "application/javascript": [
       "\n",
       "            setTimeout(function() {\n",
       "                var nbb_cell_id = 1;\n",
       "                var nbb_unformatted_code = \"%matplotlib inline \\n%reload_ext nb_black\\nfrom axiomathbf.multivariate_calculus import *\";\n",
       "                var nbb_formatted_code = \"%matplotlib inline \\n%reload_ext nb_black\\nfrom axiomathbf.multivariate_calculus import *\";\n",
       "                var nbb_cells = Jupyter.notebook.get_cells();\n",
       "                for (var i = 0; i < nbb_cells.length; ++i) {\n",
       "                    if (nbb_cells[i].input_prompt_number == nbb_cell_id) {\n",
       "                        if (nbb_cells[i].get_text() == nbb_unformatted_code) {\n",
       "                             nbb_cells[i].set_text(nbb_formatted_code);\n",
       "                        }\n",
       "                        break;\n",
       "                    }\n",
       "                }\n",
       "            }, 500);\n",
       "            "
      ],
      "text/plain": [
       "<IPython.core.display.Javascript object>"
      ]
     },
     "metadata": {},
     "output_type": "display_data"
    }
   ],
   "source": [
    "%matplotlib inline \n",
    "%reload_ext nb_black\n",
    "from axiomathbf.multivariate_calculus import *"
   ]
  },
  {
   "cell_type": "markdown",
   "metadata": {},
   "source": [
    "## Introduction"
   ]
  },
  {
   "cell_type": "markdown",
   "metadata": {},
   "source": [
    "<p>The purpose of the notebook is to serve as a manual for the Multivariate Calculus module. The notebook will also be solving some problems from the Math 200 homework, so students will get a grasp of using both the libraries's and module's methods.</p>"
   ]
  },
  {
   "cell_type": "markdown",
   "metadata": {},
   "source": [
    "# Chapter 11: Three-Dimensional Space; Vectors"
   ]
  },
  {
   "cell_type": "markdown",
   "metadata": {},
   "source": [
    "## 11.1: Rectangular Coordinates in 3D Space, Spheres"
   ]
  },
  {
   "cell_type": "markdown",
   "metadata": {},
   "source": [
    "Create variables using the sympy library."
   ]
  },
  {
   "cell_type": "code",
   "execution_count": 2,
   "metadata": {},
   "outputs": [
    {
     "data": {
      "text/latex": [
       "$\\displaystyle x$"
      ],
      "text/plain": [
       "x"
      ]
     },
     "metadata": {},
     "output_type": "display_data"
    },
    {
     "data": {
      "text/latex": [
       "$\\displaystyle y$"
      ],
      "text/plain": [
       "y"
      ]
     },
     "metadata": {},
     "output_type": "display_data"
    },
    {
     "data": {
      "text/latex": [
       "$\\displaystyle z$"
      ],
      "text/plain": [
       "z"
      ]
     },
     "metadata": {},
     "output_type": "display_data"
    },
    {
     "data": {
      "application/javascript": [
       "\n",
       "            setTimeout(function() {\n",
       "                var nbb_cell_id = 2;\n",
       "                var nbb_unformatted_code = \"x, y, z = symbols(\\\"x y z\\\")\\n\\n# displaying the objects from the sympy library prints it out in LaTex\\ndisplay(x, y, z)\";\n",
       "                var nbb_formatted_code = \"x, y, z = symbols(\\\"x y z\\\")\\n\\n# displaying the objects from the sympy library prints it out in LaTex\\ndisplay(x, y, z)\";\n",
       "                var nbb_cells = Jupyter.notebook.get_cells();\n",
       "                for (var i = 0; i < nbb_cells.length; ++i) {\n",
       "                    if (nbb_cells[i].input_prompt_number == nbb_cell_id) {\n",
       "                        if (nbb_cells[i].get_text() == nbb_unformatted_code) {\n",
       "                             nbb_cells[i].set_text(nbb_formatted_code);\n",
       "                        }\n",
       "                        break;\n",
       "                    }\n",
       "                }\n",
       "            }, 500);\n",
       "            "
      ],
      "text/plain": [
       "<IPython.core.display.Javascript object>"
      ]
     },
     "metadata": {},
     "output_type": "display_data"
    }
   ],
   "source": [
    "x, y, z = symbols(\"x y z\")\n",
    "\n",
    "# displaying the objects from the sympy library prints it out in LaTex\n",
    "display(x, y, z)"
   ]
  },
  {
   "cell_type": "markdown",
   "metadata": {},
   "source": [
    "Creating a function."
   ]
  },
  {
   "cell_type": "code",
   "execution_count": 3,
   "metadata": {},
   "outputs": [
    {
     "data": {
      "text/latex": [
       "$\\displaystyle x^{2} - 2 x + y^{2} - 4 y + z^{2} + 8 z + 17$"
      ],
      "text/plain": [
       "x**2 - 2*x + y**2 - 4*y + z**2 + 8*z + 17"
      ]
     },
     "execution_count": 3,
     "metadata": {},
     "output_type": "execute_result"
    },
    {
     "data": {
      "application/javascript": [
       "\n",
       "            setTimeout(function() {\n",
       "                var nbb_cell_id = 3;\n",
       "                var nbb_unformatted_code = \"f = x ** 2 + y ** 2 + z ** 2 - 2 * x - 4 * y + 8 * z + 17\\nf\";\n",
       "                var nbb_formatted_code = \"f = x ** 2 + y ** 2 + z ** 2 - 2 * x - 4 * y + 8 * z + 17\\nf\";\n",
       "                var nbb_cells = Jupyter.notebook.get_cells();\n",
       "                for (var i = 0; i < nbb_cells.length; ++i) {\n",
       "                    if (nbb_cells[i].input_prompt_number == nbb_cell_id) {\n",
       "                        if (nbb_cells[i].get_text() == nbb_unformatted_code) {\n",
       "                             nbb_cells[i].set_text(nbb_formatted_code);\n",
       "                        }\n",
       "                        break;\n",
       "                    }\n",
       "                }\n",
       "            }, 500);\n",
       "            "
      ],
      "text/plain": [
       "<IPython.core.display.Javascript object>"
      ]
     },
     "metadata": {},
     "output_type": "display_data"
    }
   ],
   "source": [
    "f = x ** 2 + y ** 2 + z ** 2 - 2 * x - 4 * y + 8 * z + 17\n",
    "f"
   ]
  },
  {
   "cell_type": "markdown",
   "metadata": {},
   "source": [
    "One of the first methods from the <i>axiomathbf.multivariate_calculus</i> is to simplify dirty sphere equations into the sphere formula. \n",
    "\n",
    "$$x^{2} + y^{2} + z^{2} + G x + H y + I z + J = 0 $$\n",
    "\n",
    "$$(x-x_{0})^{2}+(y-y_{0})^{2}+(z-z_{0})^{2}=k$$\n",
    "\n",
    "We can use the expand function from the sympy library to check if it is the correct answer."
   ]
  },
  {
   "cell_type": "code",
   "execution_count": 4,
   "metadata": {},
   "outputs": [
    {
     "data": {
      "text/latex": [
       "$\\displaystyle \\left(x - 1.0\\right)^{2} + \\left(y - 2.0\\right)^{2} + \\left(z + 4.0\\right)^{2} - 4.0$"
      ],
      "text/plain": [
       "(x - 1.0)**2 + (y - 2.0)**2 + (z + 4.0)**2 - 4.0"
      ]
     },
     "metadata": {},
     "output_type": "display_data"
    },
    {
     "data": {
      "text/latex": [
       "$\\displaystyle x^{2} - 2.0 x + y^{2} - 4.0 y + z^{2} + 8.0 z + 17.0$"
      ],
      "text/plain": [
       "x**2 - 2.0*x + y**2 - 4.0*y + z**2 + 8.0*z + 17.0"
      ]
     },
     "metadata": {},
     "output_type": "display_data"
    },
    {
     "data": {
      "text/latex": [
       "$\\displaystyle x^{2} - 2 x + y^{2} - 4 y + z^{2} + 8 z + 17$"
      ],
      "text/plain": [
       "x**2 - 2*x + y**2 - 4*y + z**2 + 8*z + 17"
      ]
     },
     "metadata": {},
     "output_type": "display_data"
    },
    {
     "data": {
      "application/javascript": [
       "\n",
       "            setTimeout(function() {\n",
       "                var nbb_cell_id = 4;\n",
       "                var nbb_unformatted_code = \"s = simplify_sphere(f)\\n\\n# Displaying the simplified equation, the expanded, and the original.\\n# Seems that the expanded is the same as the original, so it works!\\ndisplay(s, expand(s), f)\";\n",
       "                var nbb_formatted_code = \"s = simplify_sphere(f)\\n\\n# Displaying the simplified equation, the expanded, and the original.\\n# Seems that the expanded is the same as the original, so it works!\\ndisplay(s, expand(s), f)\";\n",
       "                var nbb_cells = Jupyter.notebook.get_cells();\n",
       "                for (var i = 0; i < nbb_cells.length; ++i) {\n",
       "                    if (nbb_cells[i].input_prompt_number == nbb_cell_id) {\n",
       "                        if (nbb_cells[i].get_text() == nbb_unformatted_code) {\n",
       "                             nbb_cells[i].set_text(nbb_formatted_code);\n",
       "                        }\n",
       "                        break;\n",
       "                    }\n",
       "                }\n",
       "            }, 500);\n",
       "            "
      ],
      "text/plain": [
       "<IPython.core.display.Javascript object>"
      ]
     },
     "metadata": {},
     "output_type": "display_data"
    }
   ],
   "source": [
    "s = simplify_sphere(f)\n",
    "\n",
    "# Displaying the simplified equation, the expanded, and the original.\n",
    "# Seems that the expanded is the same as the original, so it works!\n",
    "display(s, expand(s), f)"
   ]
  },
  {
   "cell_type": "markdown",
   "metadata": {},
   "source": [
    "However, simplify_sphere can also show more information, such as the center and radius."
   ]
  },
  {
   "cell_type": "code",
   "execution_count": 5,
   "metadata": {},
   "outputs": [
    {
     "name": "stdout",
     "output_type": "stream",
     "text": [
      "Center: [1.0, 2.0, -4.0]\n",
      "Radius: 2.00000000000000\n"
     ]
    },
    {
     "data": {
      "text/latex": [
       "$\\displaystyle \\left(x - 1.0\\right)^{2} + \\left(y - 2.0\\right)^{2} + \\left(z + 4.0\\right)^{2} - 4.0$"
      ],
      "text/plain": [
       "(x - 1.0)**2 + (y - 2.0)**2 + (z + 4.0)**2 - 4.0"
      ]
     },
     "execution_count": 5,
     "metadata": {},
     "output_type": "execute_result"
    },
    {
     "data": {
      "application/javascript": [
       "\n",
       "            setTimeout(function() {\n",
       "                var nbb_cell_id = 5;\n",
       "                var nbb_unformatted_code = \"simplify_sphere(f, True)\";\n",
       "                var nbb_formatted_code = \"simplify_sphere(f, True)\";\n",
       "                var nbb_cells = Jupyter.notebook.get_cells();\n",
       "                for (var i = 0; i < nbb_cells.length; ++i) {\n",
       "                    if (nbb_cells[i].input_prompt_number == nbb_cell_id) {\n",
       "                        if (nbb_cells[i].get_text() == nbb_unformatted_code) {\n",
       "                             nbb_cells[i].set_text(nbb_formatted_code);\n",
       "                        }\n",
       "                        break;\n",
       "                    }\n",
       "                }\n",
       "            }, 500);\n",
       "            "
      ],
      "text/plain": [
       "<IPython.core.display.Javascript object>"
      ]
     },
     "metadata": {},
     "output_type": "display_data"
    }
   ],
   "source": [
    "simplify_sphere(f, True)"
   ]
  },
  {
   "cell_type": "code",
   "execution_count": 6,
   "metadata": {},
   "outputs": [
    {
     "name": "stdout",
     "output_type": "stream",
     "text": [
      "Help on function simplify_sphere in module axiomathbf.multivariate_calculus:\n",
      "\n",
      "simplify_sphere(f, info=False)\n",
      "    Returns the general equation of the sphere (x-a)**2 + (y-b)**2 + (z-c)**2 - r**2 = 0. \n",
      "       \n",
      "    Example\n",
      "    ========\n",
      "    >>> from axiomathbf.multivariate_calculus import *\n",
      "    >>> simplify_sphere(x ** 2 + y ** 2 + z ** 2 - 2 * x - 4 * y + 8 * z + 17) \n",
      "    (x - 1.0)**2 + (y - 2.0)**2 + (z + 4.0)**2 - 4.0\n",
      "    \n",
      "    Args:\n",
      "        f (sympy.core.add.Add): The unclean sphere function.\n",
      "        info=False (bool): Prints the center and radius of the sphere if True.\n",
      "        \n",
      "    Returns:\n",
      "        sympy.core.add.Add: The function of the sphere formula format.\n",
      "\n"
     ]
    },
    {
     "data": {
      "application/javascript": [
       "\n",
       "            setTimeout(function() {\n",
       "                var nbb_cell_id = 6;\n",
       "                var nbb_unformatted_code = \"# Additionally, if there are any questions about the methods, you can always use the command help\\nhelp(simplify_sphere)\";\n",
       "                var nbb_formatted_code = \"# Additionally, if there are any questions about the methods, you can always use the command help\\nhelp(simplify_sphere)\";\n",
       "                var nbb_cells = Jupyter.notebook.get_cells();\n",
       "                for (var i = 0; i < nbb_cells.length; ++i) {\n",
       "                    if (nbb_cells[i].input_prompt_number == nbb_cell_id) {\n",
       "                        if (nbb_cells[i].get_text() == nbb_unformatted_code) {\n",
       "                             nbb_cells[i].set_text(nbb_formatted_code);\n",
       "                        }\n",
       "                        break;\n",
       "                    }\n",
       "                }\n",
       "            }, 500);\n",
       "            "
      ],
      "text/plain": [
       "<IPython.core.display.Javascript object>"
      ]
     },
     "metadata": {},
     "output_type": "display_data"
    }
   ],
   "source": [
    "# Additionally, if there are any questions about the methods, you can always use the command help\n",
    "help(simplify_sphere)"
   ]
  },
  {
   "cell_type": "markdown",
   "metadata": {},
   "source": [
    "## 11.2: Vectors"
   ]
  },
  {
   "cell_type": "markdown",
   "metadata": {},
   "source": [
    "Creating points and vectors.\n",
    "$$P(1,2,3)$$\n",
    "$$1\\vec{i}+2\\vec{j}+3\\vec{k}$$.\n",
    "\n",
    "However, in the module I decided to use matrices instead, since they seem to be more convenient."
   ]
  },
  {
   "cell_type": "code",
   "execution_count": 7,
   "metadata": {},
   "outputs": [
    {
     "data": {
      "text/latex": [
       "$\\displaystyle Point3D\\left(1, 2, 3\\right)$"
      ],
      "text/plain": [
       "Point3D(1, 2, 3)"
      ]
     },
     "metadata": {},
     "output_type": "display_data"
    },
    {
     "data": {
      "text/latex": [
       "$\\displaystyle \\left[\\begin{matrix}1 & 2 & 3\\end{matrix}\\right]$"
      ],
      "text/plain": [
       "Matrix([[1, 2, 3]])"
      ]
     },
     "metadata": {},
     "output_type": "display_data"
    },
    {
     "data": {
      "text/latex": [
       "$\\displaystyle \\left[\\begin{matrix}1 & 1 & -2\\end{matrix}\\right]$"
      ],
      "text/plain": [
       "Matrix([[1, 1, -2]])"
      ]
     },
     "execution_count": 7,
     "metadata": {},
     "output_type": "execute_result"
    },
    {
     "data": {
      "application/javascript": [
       "\n",
       "            setTimeout(function() {\n",
       "                var nbb_cell_id = 7;\n",
       "                var nbb_unformatted_code = \"p = Point(1, 2, 3)\\nv = make_vector(1, 2, 3)\\ndisplay(p, v)\\n\\n# and we can create vectors from two points\\npoint_to_point_vector(Point(1, 2, 3), Point(2, 3, 1))\";\n",
       "                var nbb_formatted_code = \"p = Point(1, 2, 3)\\nv = make_vector(1, 2, 3)\\ndisplay(p, v)\\n\\n# and we can create vectors from two points\\npoint_to_point_vector(Point(1, 2, 3), Point(2, 3, 1))\";\n",
       "                var nbb_cells = Jupyter.notebook.get_cells();\n",
       "                for (var i = 0; i < nbb_cells.length; ++i) {\n",
       "                    if (nbb_cells[i].input_prompt_number == nbb_cell_id) {\n",
       "                        if (nbb_cells[i].get_text() == nbb_unformatted_code) {\n",
       "                             nbb_cells[i].set_text(nbb_formatted_code);\n",
       "                        }\n",
       "                        break;\n",
       "                    }\n",
       "                }\n",
       "            }, 500);\n",
       "            "
      ],
      "text/plain": [
       "<IPython.core.display.Javascript object>"
      ]
     },
     "metadata": {},
     "output_type": "display_data"
    }
   ],
   "source": [
    "p = Point(1, 2, 3)\n",
    "v = make_vector(1, 2, 3)\n",
    "display(p, v)\n",
    "\n",
    "# and we can create vectors from two points\n",
    "point_to_point_vector(Point(1, 2, 3), Point(2, 3, 1))"
   ]
  },
  {
   "cell_type": "markdown",
   "metadata": {},
   "source": [
    "The Point object from the sympy library also has methods to find distances to other points and their midpoint. \n",
    "\n",
    "To learn more about the Point object here's a <a href=\"https://docs.sympy.org/latest/modules/geometry/points.html\">link</a>."
   ]
  },
  {
   "cell_type": "code",
   "execution_count": 8,
   "metadata": {},
   "outputs": [
    {
     "data": {
      "text/latex": [
       "$\\displaystyle Point3D\\left(3, 1, 1\\right)$"
      ],
      "text/plain": [
       "Point3D(3, 1, 1)"
      ]
     },
     "metadata": {},
     "output_type": "display_data"
    },
    {
     "data": {
      "text/latex": [
       "$\\displaystyle 2 \\sqrt{3}$"
      ],
      "text/plain": [
       "2*sqrt(3)"
      ]
     },
     "metadata": {},
     "output_type": "display_data"
    },
    {
     "data": {
      "application/javascript": [
       "\n",
       "            setTimeout(function() {\n",
       "                var nbb_cell_id = 8;\n",
       "                var nbb_unformatted_code = \"display(Point(2, -1, 0).midpoint(Point(4, 3, 2)))  # The midpoint\\ndisplay(Point(1, 1, 1).distance(Point(-1, -1, -1)))  # The distance\";\n",
       "                var nbb_formatted_code = \"display(Point(2, -1, 0).midpoint(Point(4, 3, 2)))  # The midpoint\\ndisplay(Point(1, 1, 1).distance(Point(-1, -1, -1)))  # The distance\";\n",
       "                var nbb_cells = Jupyter.notebook.get_cells();\n",
       "                for (var i = 0; i < nbb_cells.length; ++i) {\n",
       "                    if (nbb_cells[i].input_prompt_number == nbb_cell_id) {\n",
       "                        if (nbb_cells[i].get_text() == nbb_unformatted_code) {\n",
       "                             nbb_cells[i].set_text(nbb_formatted_code);\n",
       "                        }\n",
       "                        break;\n",
       "                    }\n",
       "                }\n",
       "            }, 500);\n",
       "            "
      ],
      "text/plain": [
       "<IPython.core.display.Javascript object>"
      ]
     },
     "metadata": {},
     "output_type": "display_data"
    }
   ],
   "source": [
    "display(Point(2, -1, 0).midpoint(Point(4, 3, 2)))  # The midpoint\n",
    "display(Point(1, 1, 1).distance(Point(-1, -1, -1)))  # The distance"
   ]
  },
  {
   "cell_type": "markdown",
   "metadata": {},
   "source": [
    "Find the Norm of a Vector $$\\|\\vec{v}\\| =  \\sqrt{v_{1}^{2}+v_{2}^{2}+v_{3}^{2}}$$"
   ]
  },
  {
   "cell_type": "code",
   "execution_count": 9,
   "metadata": {},
   "outputs": [
    {
     "data": {
      "text/latex": [
       "$\\displaystyle \\sqrt{14}$"
      ],
      "text/plain": [
       "sqrt(14)"
      ]
     },
     "metadata": {},
     "output_type": "display_data"
    },
    {
     "data": {
      "application/javascript": [
       "\n",
       "            setTimeout(function() {\n",
       "                var nbb_cell_id = 9;\n",
       "                var nbb_unformatted_code = \"display(v.norm())\";\n",
       "                var nbb_formatted_code = \"display(v.norm())\";\n",
       "                var nbb_cells = Jupyter.notebook.get_cells();\n",
       "                for (var i = 0; i < nbb_cells.length; ++i) {\n",
       "                    if (nbb_cells[i].input_prompt_number == nbb_cell_id) {\n",
       "                        if (nbb_cells[i].get_text() == nbb_unformatted_code) {\n",
       "                             nbb_cells[i].set_text(nbb_formatted_code);\n",
       "                        }\n",
       "                        break;\n",
       "                    }\n",
       "                }\n",
       "            }, 500);\n",
       "            "
      ],
      "text/plain": [
       "<IPython.core.display.Javascript object>"
      ]
     },
     "metadata": {},
     "output_type": "display_data"
    }
   ],
   "source": [
    "display(v.norm())"
   ]
  },
  {
   "cell_type": "markdown",
   "metadata": {},
   "source": [
    "## 11.3: Dot Product"
   ]
  },
  {
   "cell_type": "markdown",
   "metadata": {},
   "source": [
    "Dot Product of a Vector. $$\\vec{u}\\cdot\\vec{v} = u_{1}v_{1} + u_{2}v_{2} + u_{3}v_{3}$$"
   ]
  },
  {
   "cell_type": "code",
   "execution_count": 10,
   "metadata": {},
   "outputs": [
    {
     "data": {
      "text/latex": [
       "$\\displaystyle 7$"
      ],
      "text/plain": [
       "7"
      ]
     },
     "metadata": {},
     "output_type": "display_data"
    },
    {
     "data": {
      "application/javascript": [
       "\n",
       "            setTimeout(function() {\n",
       "                var nbb_cell_id = 10;\n",
       "                var nbb_unformatted_code = \"display(make_vector(1, 2, 3).dot(make_vector(2, 1, 1)))\";\n",
       "                var nbb_formatted_code = \"display(make_vector(1, 2, 3).dot(make_vector(2, 1, 1)))\";\n",
       "                var nbb_cells = Jupyter.notebook.get_cells();\n",
       "                for (var i = 0; i < nbb_cells.length; ++i) {\n",
       "                    if (nbb_cells[i].input_prompt_number == nbb_cell_id) {\n",
       "                        if (nbb_cells[i].get_text() == nbb_unformatted_code) {\n",
       "                             nbb_cells[i].set_text(nbb_formatted_code);\n",
       "                        }\n",
       "                        break;\n",
       "                    }\n",
       "                }\n",
       "            }, 500);\n",
       "            "
      ],
      "text/plain": [
       "<IPython.core.display.Javascript object>"
      ]
     },
     "metadata": {},
     "output_type": "display_data"
    }
   ],
   "source": [
    "display(make_vector(1, 2, 3).dot(make_vector(2, 1, 1)))"
   ]
  },
  {
   "cell_type": "markdown",
   "metadata": {},
   "source": [
    "The multivariate calculus module can find the angles between the two vector.\n",
    "$$\\cos(\\theta) = \\dfrac{\\vec(v)\\cdot\\vec(w)}{\\|\\vec(v)\\| \\|\\vec(w)\\|}$$\n"
   ]
  },
  {
   "cell_type": "code",
   "execution_count": 11,
   "metadata": {},
   "outputs": [
    {
     "name": "stdout",
     "output_type": "stream",
     "text": [
      "Angle: \n"
     ]
    },
    {
     "data": {
      "text/latex": [
       "$\\displaystyle \\operatorname{acos}{\\left(\\frac{17 \\sqrt{133}}{266} \\right)}$"
      ],
      "text/plain": [
       "acos(17*sqrt(133)/266)"
      ]
     },
     "metadata": {},
     "output_type": "display_data"
    },
    {
     "data": {
      "application/javascript": [
       "\n",
       "            setTimeout(function() {\n",
       "                var nbb_cell_id = 11;\n",
       "                var nbb_unformatted_code = \"angle = angle_between_vectors(make_vector(1, 2, 3), make_vector(5, 3, 2))\\ndir_cos = directional_cosine(make_vector(1, 2, 3))\\nprint(\\\"Angle: \\\")\\ndisplay(angle)\";\n",
       "                var nbb_formatted_code = \"angle = angle_between_vectors(make_vector(1, 2, 3), make_vector(5, 3, 2))\\ndir_cos = directional_cosine(make_vector(1, 2, 3))\\nprint(\\\"Angle: \\\")\\ndisplay(angle)\";\n",
       "                var nbb_cells = Jupyter.notebook.get_cells();\n",
       "                for (var i = 0; i < nbb_cells.length; ++i) {\n",
       "                    if (nbb_cells[i].input_prompt_number == nbb_cell_id) {\n",
       "                        if (nbb_cells[i].get_text() == nbb_unformatted_code) {\n",
       "                             nbb_cells[i].set_text(nbb_formatted_code);\n",
       "                        }\n",
       "                        break;\n",
       "                    }\n",
       "                }\n",
       "            }, 500);\n",
       "            "
      ],
      "text/plain": [
       "<IPython.core.display.Javascript object>"
      ]
     },
     "metadata": {},
     "output_type": "display_data"
    }
   ],
   "source": [
    "angle = angle_between_vectors(make_vector(1, 2, 3), make_vector(5, 3, 2))\n",
    "dir_cos = directional_cosine(make_vector(1, 2, 3))\n",
    "print(\"Angle: \")\n",
    "display(angle)"
   ]
  },
  {
   "cell_type": "markdown",
   "metadata": {},
   "source": [
    "Find the directional cosines.\n",
    "\n",
    "$$\n",
    "\\cos{\\alpha} = \\dfrac{\\vec(v_{1})}{\\|\\vec(v)\\|} \\\\ \\cos{\\beta} = \\dfrac{\\vec(v_{2})}{\\|\\vec(v)\\|} \\\\ \\cos{\\gamma} = \\dfrac{\\vec(v_{3})}{\\|\\vec(v)\\|}\n",
    "$$\n",
    "\n",
    "\n",
    "For the directional cosine, the method returns a dictionary of the alpha, beta, and gamma angles. So if you want to print them LaTex, you'd have to loop through it and display it. "
   ]
  },
  {
   "cell_type": "code",
   "execution_count": 12,
   "metadata": {},
   "outputs": [
    {
     "name": "stdout",
     "output_type": "stream",
     "text": [
      "Directional cosines: \n"
     ]
    },
    {
     "data": {
      "text/latex": [
       "$\\displaystyle \\operatorname{acos}{\\left(\\frac{\\sqrt{14}}{14} \\right)}$"
      ],
      "text/plain": [
       "acos(sqrt(14)/14)"
      ]
     },
     "metadata": {},
     "output_type": "display_data"
    },
    {
     "data": {
      "text/latex": [
       "$\\displaystyle \\operatorname{acos}{\\left(\\frac{\\sqrt{14}}{7} \\right)}$"
      ],
      "text/plain": [
       "acos(sqrt(14)/7)"
      ]
     },
     "metadata": {},
     "output_type": "display_data"
    },
    {
     "data": {
      "text/latex": [
       "$\\displaystyle \\operatorname{acos}{\\left(\\frac{3 \\sqrt{14}}{14} \\right)}$"
      ],
      "text/plain": [
       "acos(3*sqrt(14)/14)"
      ]
     },
     "metadata": {},
     "output_type": "display_data"
    },
    {
     "data": {
      "application/javascript": [
       "\n",
       "            setTimeout(function() {\n",
       "                var nbb_cell_id = 12;\n",
       "                var nbb_unformatted_code = \"print(\\\"Directional cosines: \\\")\\nfor i in dir_cos:\\n    display(dir_cos[i])\";\n",
       "                var nbb_formatted_code = \"print(\\\"Directional cosines: \\\")\\nfor i in dir_cos:\\n    display(dir_cos[i])\";\n",
       "                var nbb_cells = Jupyter.notebook.get_cells();\n",
       "                for (var i = 0; i < nbb_cells.length; ++i) {\n",
       "                    if (nbb_cells[i].input_prompt_number == nbb_cell_id) {\n",
       "                        if (nbb_cells[i].get_text() == nbb_unformatted_code) {\n",
       "                             nbb_cells[i].set_text(nbb_formatted_code);\n",
       "                        }\n",
       "                        break;\n",
       "                    }\n",
       "                }\n",
       "            }, 500);\n",
       "            "
      ],
      "text/plain": [
       "<IPython.core.display.Javascript object>"
      ]
     },
     "metadata": {},
     "output_type": "display_data"
    }
   ],
   "source": [
    "print(\"Directional cosines: \")\n",
    "for i in dir_cos:\n",
    "    display(dir_cos[i])"
   ]
  },
  {
   "cell_type": "markdown",
   "metadata": {},
   "source": [
    "There are also methods such as, projection and distance_from_point_to_line.\n",
    "$$proj _{\\vec{b}} {\\vec{v}} = \\dfrac{\\vec{v}\\cdot\\vec{b}}{||\\vec{b}||^{2}}\\vec{b}$$\n",
    "\n",
    "There are many formulas to find the distance from a point to a line, but in this chapter we'll use:"
   ]
  },
  {
   "cell_type": "code",
   "execution_count": 13,
   "metadata": {},
   "outputs": [
    {
     "data": {
      "text/latex": [
       "$\\displaystyle \\left[\\begin{matrix}- \\frac{3}{5} & \\frac{4}{5} & 0\\end{matrix}\\right]$"
      ],
      "text/plain": [
       "Matrix([[-3/5, 4/5, 0]])"
      ]
     },
     "metadata": {},
     "output_type": "display_data"
    },
    {
     "data": {
      "text/latex": [
       "$\\displaystyle \\frac{\\sqrt{910}}{10}$"
      ],
      "text/plain": [
       "sqrt(910)/10"
      ]
     },
     "metadata": {},
     "output_type": "display_data"
    },
    {
     "data": {
      "application/javascript": [
       "\n",
       "            setTimeout(function() {\n",
       "                var nbb_cell_id = 13;\n",
       "                var nbb_unformatted_code = \"proj = projection(make_vector(1, 2, 0), make_vector(-3, 4, 0))\\ndisplay(\\n    proj, distance_from_point_to_line(Point(5, 3, 0), Point(1, 0, 1), Point(2, 3, 1))\\n)\";\n",
       "                var nbb_formatted_code = \"proj = projection(make_vector(1, 2, 0), make_vector(-3, 4, 0))\\ndisplay(\\n    proj, distance_from_point_to_line(Point(5, 3, 0), Point(1, 0, 1), Point(2, 3, 1))\\n)\";\n",
       "                var nbb_cells = Jupyter.notebook.get_cells();\n",
       "                for (var i = 0; i < nbb_cells.length; ++i) {\n",
       "                    if (nbb_cells[i].input_prompt_number == nbb_cell_id) {\n",
       "                        if (nbb_cells[i].get_text() == nbb_unformatted_code) {\n",
       "                             nbb_cells[i].set_text(nbb_formatted_code);\n",
       "                        }\n",
       "                        break;\n",
       "                    }\n",
       "                }\n",
       "            }, 500);\n",
       "            "
      ],
      "text/plain": [
       "<IPython.core.display.Javascript object>"
      ]
     },
     "metadata": {},
     "output_type": "display_data"
    }
   ],
   "source": [
    "proj = projection(make_vector(1, 2, 0), make_vector(-3, 4, 0))\n",
    "display(\n",
    "    proj, distance_from_point_to_line(Point(5, 3, 0), Point(1, 0, 1), Point(2, 3, 1))\n",
    ")"
   ]
  },
  {
   "cell_type": "markdown",
   "metadata": {},
   "source": [
    "## 11.4: Cross Product"
   ]
  },
  {
   "cell_type": "markdown",
   "metadata": {},
   "source": [
    "With the multivariate module, we can find the area of two vectors and parallelpiped volume.\n",
    "\n",
    "$$\\vec{u}\\times\\vec{v} = \n",
    "\\begin{equation*}\n",
    "\\begin{bmatrix}\n",
    "\\vec{i} & \\vec{j} & \\vec{k} \\\\\n",
    "\\vec{u}_{1} & \\vec{u}_{2} & \\vec{u}_{3} \\\\\n",
    "\\vec{v}_{1} & \\vec{v}_{2} & \\vec{v}_{3}\n",
    "\\end{bmatrix}\n",
    "\\end{equation*}$$\n",
    "\n",
    "Parallelpiped Volume\n",
    "$$\\vec{u}\\cdot(\\vec{v}\\times\\vec{w}) = \n",
    "\\begin{equation*}\n",
    "\\begin{bmatrix}\n",
    "\\vec{u}_{1} & \\vec{u}_{2} & \\vec{u}_{3} \\\\\n",
    "\\vec{v}_{1} & \\vec{v}_{2} & \\vec{v}_{3}\\\\\n",
    "\\vec{w}_{1} & \\vec{w}_{2} & \\vec{w}_{3}\n",
    "\\end{bmatrix}\n",
    "\\end{equation*}\n",
    "$$"
   ]
  },
  {
   "cell_type": "code",
   "execution_count": 14,
   "metadata": {},
   "outputs": [
    {
     "data": {
      "text/latex": [
       "$\\displaystyle \\left[\\begin{matrix}-10 & -7 & 2\\end{matrix}\\right]$"
      ],
      "text/plain": [
       "Matrix([[-10, -7, 2]])"
      ]
     },
     "metadata": {},
     "output_type": "display_data"
    },
    {
     "data": {
      "text/latex": [
       "$\\displaystyle \\sqrt{269}$"
      ],
      "text/plain": [
       "sqrt(269)"
      ]
     },
     "metadata": {},
     "output_type": "display_data"
    },
    {
     "data": {
      "text/latex": [
       "$\\displaystyle 43$"
      ],
      "text/plain": [
       "43"
      ]
     },
     "metadata": {},
     "output_type": "display_data"
    },
    {
     "data": {
      "application/javascript": [
       "\n",
       "            setTimeout(function() {\n",
       "                var nbb_cell_id = 14;\n",
       "                var nbb_unformatted_code = \"# To find cross product of two vectors\\ndisplay(make_vector(3, -4, 1).cross(make_vector(2, -2, 3)))\\n\\n# area\\ndisplay(cross_area(make_vector(3, 4, 0), make_vector(-1, 3, -2)))\\n\\n# volume of parallelpiped\\ndisplay(\\n    parallelpiped_volume(\\n        make_vector(1, 2, 3), make_vector(3, 4, 0), make_vector(-1, 3, -2)\\n    )\\n)\";\n",
       "                var nbb_formatted_code = \"# To find cross product of two vectors\\ndisplay(make_vector(3, -4, 1).cross(make_vector(2, -2, 3)))\\n\\n# area\\ndisplay(cross_area(make_vector(3, 4, 0), make_vector(-1, 3, -2)))\\n\\n# volume of parallelpiped\\ndisplay(\\n    parallelpiped_volume(\\n        make_vector(1, 2, 3), make_vector(3, 4, 0), make_vector(-1, 3, -2)\\n    )\\n)\";\n",
       "                var nbb_cells = Jupyter.notebook.get_cells();\n",
       "                for (var i = 0; i < nbb_cells.length; ++i) {\n",
       "                    if (nbb_cells[i].input_prompt_number == nbb_cell_id) {\n",
       "                        if (nbb_cells[i].get_text() == nbb_unformatted_code) {\n",
       "                             nbb_cells[i].set_text(nbb_formatted_code);\n",
       "                        }\n",
       "                        break;\n",
       "                    }\n",
       "                }\n",
       "            }, 500);\n",
       "            "
      ],
      "text/plain": [
       "<IPython.core.display.Javascript object>"
      ]
     },
     "metadata": {},
     "output_type": "display_data"
    }
   ],
   "source": [
    "# To find cross product of two vectors\n",
    "display(make_vector(3, -4, 1).cross(make_vector(2, -2, 3)))\n",
    "\n",
    "# area\n",
    "display(cross_area(make_vector(3, 4, 0), make_vector(-1, 3, -2)))\n",
    "\n",
    "# volume of parallelpiped\n",
    "display(\n",
    "    parallelpiped_volume(\n",
    "        make_vector(1, 2, 3), make_vector(3, 4, 0), make_vector(-1, 3, -2)\n",
    "    )\n",
    ")"
   ]
  },
  {
   "cell_type": "markdown",
   "metadata": {},
   "source": [
    "## 11.5: Parametric Equations of Lines"
   ]
  },
  {
   "cell_type": "markdown",
   "metadata": {},
   "source": [
    "There are methods that help print parametric lines, whether you are only given a point and a vector or two points.\n",
    "\n",
    "$$<x, y, z> = <x_{0}, y_{0}, z_{0}> + t<a,b,c>$$\n",
    "\n",
    "or\n",
    "\n",
    "$$\n",
    "L:\n",
    "\\begin{cases} \n",
    "      x = x_{0}+at\\\\\n",
    "      y = y_{0}+bt \\\\\n",
    "      z = z_{0}+ct \n",
    "   \\end{cases}\n",
    "$$\n",
    "\n"
   ]
  },
  {
   "cell_type": "code",
   "execution_count": 15,
   "metadata": {},
   "outputs": [
    {
     "name": "stdout",
     "output_type": "stream",
     "text": [
      "<x,y,z> = <1,0,-1> + <1,-2,0>t\n",
      "<x,y,z> = <3,-6,6> + <-1,6,1>t\n"
     ]
    },
    {
     "data": {
      "application/javascript": [
       "\n",
       "            setTimeout(function() {\n",
       "                var nbb_cell_id = 15;\n",
       "                var nbb_unformatted_code = \"print(point_vector_line(Point(1, 0, -1), make_vector(1, -2, 0)))\\nprint(point_to_point_line(Point(3, -6, 6), Point(2, 0, 7)))\";\n",
       "                var nbb_formatted_code = \"print(point_vector_line(Point(1, 0, -1), make_vector(1, -2, 0)))\\nprint(point_to_point_line(Point(3, -6, 6), Point(2, 0, 7)))\";\n",
       "                var nbb_cells = Jupyter.notebook.get_cells();\n",
       "                for (var i = 0; i < nbb_cells.length; ++i) {\n",
       "                    if (nbb_cells[i].input_prompt_number == nbb_cell_id) {\n",
       "                        if (nbb_cells[i].get_text() == nbb_unformatted_code) {\n",
       "                             nbb_cells[i].set_text(nbb_formatted_code);\n",
       "                        }\n",
       "                        break;\n",
       "                    }\n",
       "                }\n",
       "            }, 500);\n",
       "            "
      ],
      "text/plain": [
       "<IPython.core.display.Javascript object>"
      ]
     },
     "metadata": {},
     "output_type": "display_data"
    }
   ],
   "source": [
    "print(point_vector_line(Point(1, 0, -1), make_vector(1, -2, 0)))\n",
    "print(point_to_point_line(Point(3, -6, 6), Point(2, 0, 7)))"
   ]
  },
  {
   "cell_type": "markdown",
   "metadata": {},
   "source": [
    "Additionally, the module also has a module that compares two lines, whether they are perpendicular, parallel, or skew."
   ]
  },
  {
   "cell_type": "code",
   "execution_count": 16,
   "metadata": {},
   "outputs": [
    {
     "name": "stdout",
     "output_type": "stream",
     "text": [
      "Matrix([[3, -2, 5]]) and Matrix([[-6, 4, -10]]): Parallel\n"
     ]
    },
    {
     "data": {
      "application/javascript": [
       "\n",
       "            setTimeout(function() {\n",
       "                var nbb_cell_id = 16;\n",
       "                var nbb_unformatted_code = \"print(compare_lines(make_vector(3, -2, 5), make_vector(-6, 4, -10)))\";\n",
       "                var nbb_formatted_code = \"print(compare_lines(make_vector(3, -2, 5), make_vector(-6, 4, -10)))\";\n",
       "                var nbb_cells = Jupyter.notebook.get_cells();\n",
       "                for (var i = 0; i < nbb_cells.length; ++i) {\n",
       "                    if (nbb_cells[i].input_prompt_number == nbb_cell_id) {\n",
       "                        if (nbb_cells[i].get_text() == nbb_unformatted_code) {\n",
       "                             nbb_cells[i].set_text(nbb_formatted_code);\n",
       "                        }\n",
       "                        break;\n",
       "                    }\n",
       "                }\n",
       "            }, 500);\n",
       "            "
      ],
      "text/plain": [
       "<IPython.core.display.Javascript object>"
      ]
     },
     "metadata": {},
     "output_type": "display_data"
    }
   ],
   "source": [
    "print(compare_lines(make_vector(3, -2, 5), make_vector(-6, 4, -10)))"
   ]
  },
  {
   "cell_type": "markdown",
   "metadata": {},
   "source": [
    "## 11.6 Planes"
   ]
  },
  {
   "cell_type": "markdown",
   "metadata": {},
   "source": [
    "The module has methods to form planes and find the distance between a point and a plane.\n",
    "\n",
    "Point-Normal Form of a Plane.\n",
    "\n",
    "$$a(x-x_{0})+b(y-y_{0})+c(z-z_{0})=0$$\n",
    "\n",
    "Standard Form of a Plane.\n",
    "$$ax + by+cz = d$$"
   ]
  },
  {
   "cell_type": "code",
   "execution_count": 17,
   "metadata": {},
   "outputs": [
    {
     "data": {
      "text/latex": [
       "$\\displaystyle 4 x - 2 y + 6 z - 18$"
      ],
      "text/plain": [
       "4*x - 2*y + 6*z - 18"
      ]
     },
     "metadata": {},
     "output_type": "display_data"
    },
    {
     "data": {
      "text/latex": [
       "$\\displaystyle - 2 x - 4 y - 5 z + 25$"
      ],
      "text/plain": [
       "-2*x - 4*y - 5*z + 25"
      ]
     },
     "metadata": {},
     "output_type": "display_data"
    },
    {
     "data": {
      "application/javascript": [
       "\n",
       "            setTimeout(function() {\n",
       "                var nbb_cell_id = 17;\n",
       "                var nbb_unformatted_code = \"display(make_plane(Point(1, 2, 3), make_vector(4, -2, 6)))\\n\\n# There is also a method to form a plane given three points\\ndisplay(three_point_plane(Point(1, 2, 3), Point(2, -1, 5), Point(-1, 3, 3)))\";\n",
       "                var nbb_formatted_code = \"display(make_plane(Point(1, 2, 3), make_vector(4, -2, 6)))\\n\\n# There is also a method to form a plane given three points\\ndisplay(three_point_plane(Point(1, 2, 3), Point(2, -1, 5), Point(-1, 3, 3)))\";\n",
       "                var nbb_cells = Jupyter.notebook.get_cells();\n",
       "                for (var i = 0; i < nbb_cells.length; ++i) {\n",
       "                    if (nbb_cells[i].input_prompt_number == nbb_cell_id) {\n",
       "                        if (nbb_cells[i].get_text() == nbb_unformatted_code) {\n",
       "                             nbb_cells[i].set_text(nbb_formatted_code);\n",
       "                        }\n",
       "                        break;\n",
       "                    }\n",
       "                }\n",
       "            }, 500);\n",
       "            "
      ],
      "text/plain": [
       "<IPython.core.display.Javascript object>"
      ]
     },
     "metadata": {},
     "output_type": "display_data"
    }
   ],
   "source": [
    "display(make_plane(Point(1, 2, 3), make_vector(4, -2, 6)))\n",
    "\n",
    "# There is also a method to form a plane given three points\n",
    "display(three_point_plane(Point(1, 2, 3), Point(2, -1, 5), Point(-1, 3, 3)))"
   ]
  },
  {
   "cell_type": "code",
   "execution_count": 18,
   "metadata": {},
   "outputs": [
    {
     "data": {
      "text/latex": [
       "$\\displaystyle \\frac{\\sqrt{14}}{2}$"
      ],
      "text/plain": [
       "sqrt(14)/2"
      ]
     },
     "execution_count": 18,
     "metadata": {},
     "output_type": "execute_result"
    },
    {
     "data": {
      "application/javascript": [
       "\n",
       "            setTimeout(function() {\n",
       "                var nbb_cell_id = 18;\n",
       "                var nbb_unformatted_code = \"# Distance from a point to a plane, Ax + By + Cz -D = 0\\n# The vector would be the (A, B, C), and the third parameter is -D\\ndistance_from_point_to_plane(Point(2, -1, 4), make_vector(1, 2, 3), -5)\";\n",
       "                var nbb_formatted_code = \"# Distance from a point to a plane, Ax + By + Cz -D = 0\\n# The vector would be the (A, B, C), and the third parameter is -D\\ndistance_from_point_to_plane(Point(2, -1, 4), make_vector(1, 2, 3), -5)\";\n",
       "                var nbb_cells = Jupyter.notebook.get_cells();\n",
       "                for (var i = 0; i < nbb_cells.length; ++i) {\n",
       "                    if (nbb_cells[i].input_prompt_number == nbb_cell_id) {\n",
       "                        if (nbb_cells[i].get_text() == nbb_unformatted_code) {\n",
       "                             nbb_cells[i].set_text(nbb_formatted_code);\n",
       "                        }\n",
       "                        break;\n",
       "                    }\n",
       "                }\n",
       "            }, 500);\n",
       "            "
      ],
      "text/plain": [
       "<IPython.core.display.Javascript object>"
      ]
     },
     "metadata": {},
     "output_type": "display_data"
    }
   ],
   "source": [
    "# Distance from a point to a plane, Ax + By + Cz -D = 0\n",
    "# The vector would be the (A, B, C), and the third parameter is -D\n",
    "distance_from_point_to_plane(Point(2, -1, 4), make_vector(1, 2, 3), -5)"
   ]
  },
  {
   "cell_type": "markdown",
   "metadata": {},
   "source": [
    "# 11.7 Quadric Surfaces"
   ]
  },
  {
   "cell_type": "markdown",
   "metadata": {},
   "source": [
    "The module also allows the user to draw quadrics. However, no arguments to augment the quadrics yet."
   ]
  },
  {
   "cell_type": "markdown",
   "metadata": {},
   "source": [
    "Ellipsoid: $$\\dfrac{x^{2}}{a^{2}}+\\dfrac{y^{2}}{b^{2}}+\\dfrac{z^{2}}{c^{2}}=1$$"
   ]
  },
  {
   "cell_type": "code",
   "execution_count": 19,
   "metadata": {},
   "outputs": [
    {
     "data": {
      "image/png": "[encoded data removed]",
      "text/plain": [
       "<Figure size 288x288 with 1 Axes>"
      ]
     },
     "metadata": {
      "needs_background": "light"
     },
     "output_type": "display_data"
    },
    {
     "data": {
      "application/javascript": [
       "\n",
       "            setTimeout(function() {\n",
       "                var nbb_cell_id = 19;\n",
       "                var nbb_unformatted_code = \"draw_ellipsoid()\";\n",
       "                var nbb_formatted_code = \"draw_ellipsoid()\";\n",
       "                var nbb_cells = Jupyter.notebook.get_cells();\n",
       "                for (var i = 0; i < nbb_cells.length; ++i) {\n",
       "                    if (nbb_cells[i].input_prompt_number == nbb_cell_id) {\n",
       "                        if (nbb_cells[i].get_text() == nbb_unformatted_code) {\n",
       "                             nbb_cells[i].set_text(nbb_formatted_code);\n",
       "                        }\n",
       "                        break;\n",
       "                    }\n",
       "                }\n",
       "            }, 500);\n",
       "            "
      ],
      "text/plain": [
       "<IPython.core.display.Javascript object>"
      ]
     },
     "metadata": {},
     "output_type": "display_data"
    }
   ],
   "source": [
    "draw_ellipsoid()"
   ]
  },
  {
   "cell_type": "markdown",
   "metadata": {},
   "source": [
    "Elliptic Cone: $$z^{2} = \\dfrac{x^{2}}{a^{2}}+\\dfrac{y^{2}}{b^{2}}$$"
   ]
  },
  {
   "cell_type": "code",
   "execution_count": 20,
   "metadata": {},
   "outputs": [
    {
     "data": {
      "image/png": "[encoded data removed]",
      "text/plain": [
       "<Figure size 288x288 with 1 Axes>"
      ]
     },
     "metadata": {
      "needs_background": "light"
     },
     "output_type": "display_data"
    },
    {
     "data": {
      "application/javascript": [
       "\n",
       "            setTimeout(function() {\n",
       "                var nbb_cell_id = 20;\n",
       "                var nbb_unformatted_code = \"draw_elliptic_cone()\";\n",
       "                var nbb_formatted_code = \"draw_elliptic_cone()\";\n",
       "                var nbb_cells = Jupyter.notebook.get_cells();\n",
       "                for (var i = 0; i < nbb_cells.length; ++i) {\n",
       "                    if (nbb_cells[i].input_prompt_number == nbb_cell_id) {\n",
       "                        if (nbb_cells[i].get_text() == nbb_unformatted_code) {\n",
       "                             nbb_cells[i].set_text(nbb_formatted_code);\n",
       "                        }\n",
       "                        break;\n",
       "                    }\n",
       "                }\n",
       "            }, 500);\n",
       "            "
      ],
      "text/plain": [
       "<IPython.core.display.Javascript object>"
      ]
     },
     "metadata": {},
     "output_type": "display_data"
    }
   ],
   "source": [
    "draw_elliptic_cone()"
   ]
  },
  {
   "cell_type": "markdown",
   "metadata": {},
   "source": [
    "Hyperboloid of One Sheet:\n",
    "$$\\dfrac{x^{2}}{a^{2}}+\\dfrac{y^{2}}{b^{2}}-\\dfrac{z^{2}}{c^{2}}=1$$"
   ]
  },
  {
   "cell_type": "code",
   "execution_count": 21,
   "metadata": {},
   "outputs": [
    {
     "data": {
      "image/png": "[encoded data removed]",
      "text/plain": [
       "<Figure size 288x288 with 1 Axes>"
      ]
     },
     "metadata": {
      "needs_background": "light"
     },
     "output_type": "display_data"
    },
    {
     "data": {
      "application/javascript": [
       "\n",
       "            setTimeout(function() {\n",
       "                var nbb_cell_id = 21;\n",
       "                var nbb_unformatted_code = \"draw_hyperboloid_one_sheet()\";\n",
       "                var nbb_formatted_code = \"draw_hyperboloid_one_sheet()\";\n",
       "                var nbb_cells = Jupyter.notebook.get_cells();\n",
       "                for (var i = 0; i < nbb_cells.length; ++i) {\n",
       "                    if (nbb_cells[i].input_prompt_number == nbb_cell_id) {\n",
       "                        if (nbb_cells[i].get_text() == nbb_unformatted_code) {\n",
       "                             nbb_cells[i].set_text(nbb_formatted_code);\n",
       "                        }\n",
       "                        break;\n",
       "                    }\n",
       "                }\n",
       "            }, 500);\n",
       "            "
      ],
      "text/plain": [
       "<IPython.core.display.Javascript object>"
      ]
     },
     "metadata": {},
     "output_type": "display_data"
    }
   ],
   "source": [
    "draw_hyperboloid_one_sheet()"
   ]
  },
  {
   "cell_type": "markdown",
   "metadata": {},
   "source": [
    "Elliptic Paraboloid:\n",
    "$$z = \\dfrac{x^{2}}{a^{2}}+\\dfrac{y^{2}}{b^{2}}$$"
   ]
  },
  {
   "cell_type": "code",
   "execution_count": 22,
   "metadata": {},
   "outputs": [
    {
     "data": {
      "image/png": "[encoded data removed]",
      "text/plain": [
       "<Figure size 288x288 with 1 Axes>"
      ]
     },
     "metadata": {
      "needs_background": "light"
     },
     "output_type": "display_data"
    },
    {
     "data": {
      "application/javascript": [
       "\n",
       "            setTimeout(function() {\n",
       "                var nbb_cell_id = 22;\n",
       "                var nbb_unformatted_code = \"draw_elliptic_paraboloid()\";\n",
       "                var nbb_formatted_code = \"draw_elliptic_paraboloid()\";\n",
       "                var nbb_cells = Jupyter.notebook.get_cells();\n",
       "                for (var i = 0; i < nbb_cells.length; ++i) {\n",
       "                    if (nbb_cells[i].input_prompt_number == nbb_cell_id) {\n",
       "                        if (nbb_cells[i].get_text() == nbb_unformatted_code) {\n",
       "                             nbb_cells[i].set_text(nbb_formatted_code);\n",
       "                        }\n",
       "                        break;\n",
       "                    }\n",
       "                }\n",
       "            }, 500);\n",
       "            "
      ],
      "text/plain": [
       "<IPython.core.display.Javascript object>"
      ]
     },
     "metadata": {},
     "output_type": "display_data"
    }
   ],
   "source": [
    "draw_elliptic_paraboloid()"
   ]
  },
  {
   "cell_type": "markdown",
   "metadata": {},
   "source": [
    "Hyperboloid of Two Sheets:\n",
    "$$\\dfrac{z^{2}}{c^{2}}-\\dfrac{x^{2}}{a^{2}}-\\dfrac{y^{2}}{b^{2}}=1$$    "
   ]
  },
  {
   "cell_type": "code",
   "execution_count": 23,
   "metadata": {},
   "outputs": [
    {
     "data": {
      "image/png": "[encoded data removed]",
      "text/plain": [
       "<Figure size 288x288 with 1 Axes>"
      ]
     },
     "metadata": {
      "needs_background": "light"
     },
     "output_type": "display_data"
    },
    {
     "data": {
      "application/javascript": [
       "\n",
       "            setTimeout(function() {\n",
       "                var nbb_cell_id = 23;\n",
       "                var nbb_unformatted_code = \"draw_hyperboloid_two_sheet()\";\n",
       "                var nbb_formatted_code = \"draw_hyperboloid_two_sheet()\";\n",
       "                var nbb_cells = Jupyter.notebook.get_cells();\n",
       "                for (var i = 0; i < nbb_cells.length; ++i) {\n",
       "                    if (nbb_cells[i].input_prompt_number == nbb_cell_id) {\n",
       "                        if (nbb_cells[i].get_text() == nbb_unformatted_code) {\n",
       "                             nbb_cells[i].set_text(nbb_formatted_code);\n",
       "                        }\n",
       "                        break;\n",
       "                    }\n",
       "                }\n",
       "            }, 500);\n",
       "            "
      ],
      "text/plain": [
       "<IPython.core.display.Javascript object>"
      ]
     },
     "metadata": {},
     "output_type": "display_data"
    }
   ],
   "source": [
    "draw_hyperboloid_two_sheet()"
   ]
  },
  {
   "cell_type": "markdown",
   "metadata": {},
   "source": [
    "Hyperbolic Paraboloid:\n",
    "$$z = \\dfrac{y^{2}}{b^{2}}-\\dfrac{x^{2}}{a^{2}}$$"
   ]
  },
  {
   "cell_type": "code",
   "execution_count": 24,
   "metadata": {},
   "outputs": [
    {
     "data": {
      "image/png": "[encoded data removed]",
      "text/plain": [
       "<Figure size 288x288 with 1 Axes>"
      ]
     },
     "metadata": {
      "needs_background": "light"
     },
     "output_type": "display_data"
    },
    {
     "data": {
      "application/javascript": [
       "\n",
       "            setTimeout(function() {\n",
       "                var nbb_cell_id = 24;\n",
       "                var nbb_unformatted_code = \"draw_hyperbolic_paraboloid()\";\n",
       "                var nbb_formatted_code = \"draw_hyperbolic_paraboloid()\";\n",
       "                var nbb_cells = Jupyter.notebook.get_cells();\n",
       "                for (var i = 0; i < nbb_cells.length; ++i) {\n",
       "                    if (nbb_cells[i].input_prompt_number == nbb_cell_id) {\n",
       "                        if (nbb_cells[i].get_text() == nbb_unformatted_code) {\n",
       "                             nbb_cells[i].set_text(nbb_formatted_code);\n",
       "                        }\n",
       "                        break;\n",
       "                    }\n",
       "                }\n",
       "            }, 500);\n",
       "            "
      ],
      "text/plain": [
       "<IPython.core.display.Javascript object>"
      ]
     },
     "metadata": {},
     "output_type": "display_data"
    }
   ],
   "source": [
    "draw_hyperbolic_paraboloid()"
   ]
  },
  {
   "cell_type": "markdown",
   "metadata": {},
   "source": [
    "# 11.8 Cylinderical and Spherical Coordinates"
   ]
  },
  {
   "cell_type": "markdown",
   "metadata": {},
   "source": [
    "The module is able to convert rectangular coordinates to both cylinderical and spherical coordinates and the reverse."
   ]
  },
  {
   "cell_type": "markdown",
   "metadata": {},
   "source": [
    "Converting cylinderical to rectangular.\n",
    "$$x=r\\cos{\\theta}\\\\ y=r\\sin{\\theta}\\\\z=z$$ \n",
    "\n",
    "Converting rectangular to cylinderical.\n",
    "$$r=\\sqrt{x^{2}+y^{2}}\\\\ \\tan{\\theta} = \\dfrac{y}{x}\\\\ z=z$$"
   ]
  },
  {
   "cell_type": "code",
   "execution_count": 25,
   "metadata": {},
   "outputs": [
    {
     "data": {
      "text/latex": [
       "$\\displaystyle Point3D\\left(2, \\frac{5 \\pi}{3}, -2\\right)$"
      ],
      "text/plain": [
       "Point3D(2, 5*pi/3, -2)"
      ]
     },
     "metadata": {},
     "output_type": "display_data"
    },
    {
     "data": {
      "text/latex": [
       "$\\displaystyle Point3D\\left(1, - \\sqrt{3}, -2\\right)$"
      ],
      "text/plain": [
       "Point3D(1, -sqrt(3), -2)"
      ]
     },
     "metadata": {},
     "output_type": "display_data"
    },
    {
     "data": {
      "application/javascript": [
       "\n",
       "            setTimeout(function() {\n",
       "                var nbb_cell_id = 25;\n",
       "                var nbb_unformatted_code = \"# rectangular to cylinderical and reverse\\ndisplay(convert_rect_to_cylinder(Point(1, -sqrt(3), -2)))\\ndisplay(convert_cylinder_to_rect(Point(2, 5 * pi / 3, -2)))\";\n",
       "                var nbb_formatted_code = \"# rectangular to cylinderical and reverse\\ndisplay(convert_rect_to_cylinder(Point(1, -sqrt(3), -2)))\\ndisplay(convert_cylinder_to_rect(Point(2, 5 * pi / 3, -2)))\";\n",
       "                var nbb_cells = Jupyter.notebook.get_cells();\n",
       "                for (var i = 0; i < nbb_cells.length; ++i) {\n",
       "                    if (nbb_cells[i].input_prompt_number == nbb_cell_id) {\n",
       "                        if (nbb_cells[i].get_text() == nbb_unformatted_code) {\n",
       "                             nbb_cells[i].set_text(nbb_formatted_code);\n",
       "                        }\n",
       "                        break;\n",
       "                    }\n",
       "                }\n",
       "            }, 500);\n",
       "            "
      ],
      "text/plain": [
       "<IPython.core.display.Javascript object>"
      ]
     },
     "metadata": {},
     "output_type": "display_data"
    }
   ],
   "source": [
    "# rectangular to cylinderical and reverse\n",
    "display(convert_rect_to_cylinder(Point(1, -sqrt(3), -2)))\n",
    "display(convert_cylinder_to_rect(Point(2, 5 * pi / 3, -2)))"
   ]
  },
  {
   "cell_type": "markdown",
   "metadata": {},
   "source": [
    "Converting spherical to rectangular.\n",
    "$$x=\\rho\\sin{\\phi}\\cos{\\theta}\\\\y=\\rho\\sin{\\phi}\\sin{\\theta}\\\\z=\\rho\\cos{\\phi}$$\n",
    "Converting rectangular to spherical.\n",
    "$$\\rho=\\sqrt{x^{2}+y^{2}+z^{2}}\\\\ \\tan{\\theta}=\\dfrac{y}{x} \\\\ \\cos{\\phi} = \\dfrac{z}{\\sqrt{x^{2}+y^{2}+z^{2}}}$$"
   ]
  },
  {
   "cell_type": "code",
   "execution_count": 26,
   "metadata": {},
   "outputs": [
    {
     "data": {
      "text/latex": [
       "$\\displaystyle Point3D\\left(2 \\sqrt{2}, \\frac{5 \\pi}{3}, \\frac{3 \\pi}{4}\\right)$"
      ],
      "text/plain": [
       "Point3D(2*sqrt(2), 5*pi/3, 3*pi/4)"
      ]
     },
     "metadata": {},
     "output_type": "display_data"
    },
    {
     "data": {
      "text/latex": [
       "$\\displaystyle Point3D\\left(\\sqrt{3}, \\sqrt{2}, - \\sqrt{3}\\right)$"
      ],
      "text/plain": [
       "Point3D(sqrt(3), sqrt(2), -sqrt(3))"
      ]
     },
     "metadata": {},
     "output_type": "display_data"
    },
    {
     "data": {
      "application/javascript": [
       "\n",
       "            setTimeout(function() {\n",
       "                var nbb_cell_id = 26;\n",
       "                var nbb_unformatted_code = \"display(convert_rect_to_sphere(Point(1, -sqrt(3), -2)))\\ndisplay(convert_sphere_to_rect(Point(2 * sqrt(2), 5 * pi / 3, 3 * pi / 4)))\";\n",
       "                var nbb_formatted_code = \"display(convert_rect_to_sphere(Point(1, -sqrt(3), -2)))\\ndisplay(convert_sphere_to_rect(Point(2 * sqrt(2), 5 * pi / 3, 3 * pi / 4)))\";\n",
       "                var nbb_cells = Jupyter.notebook.get_cells();\n",
       "                for (var i = 0; i < nbb_cells.length; ++i) {\n",
       "                    if (nbb_cells[i].input_prompt_number == nbb_cell_id) {\n",
       "                        if (nbb_cells[i].get_text() == nbb_unformatted_code) {\n",
       "                             nbb_cells[i].set_text(nbb_formatted_code);\n",
       "                        }\n",
       "                        break;\n",
       "                    }\n",
       "                }\n",
       "            }, 500);\n",
       "            "
      ],
      "text/plain": [
       "<IPython.core.display.Javascript object>"
      ]
     },
     "metadata": {},
     "output_type": "display_data"
    }
   ],
   "source": [
    "display(convert_rect_to_sphere(Point(1, -sqrt(3), -2)))\n",
    "display(convert_sphere_to_rect(Point(2 * sqrt(2), 5 * pi / 3, 3 * pi / 4)))"
   ]
  },
  {
   "cell_type": "markdown",
   "metadata": {},
   "source": [
    "# Chapter 12: Vector-Valued Functions"
   ]
  },
  {
   "cell_type": "markdown",
   "metadata": {},
   "source": [
    "## 12.1: Introduction to Vector-Valued Functions"
   ]
  },
  {
   "cell_type": "markdown",
   "metadata": {},
   "source": [
    "Finding the domain of a vector-valued function."
   ]
  },
  {
   "cell_type": "code",
   "execution_count": 27,
   "metadata": {},
   "outputs": [
    {
     "data": {
      "text/latex": [
       "$\\displaystyle \\left(-\\infty, 0\\right) \\cup \\left(0, 1\\right]$"
      ],
      "text/plain": [
       "Union(Interval.open(-oo, 0), Interval.Lopen(0, 1))"
      ]
     },
     "execution_count": 27,
     "metadata": {},
     "output_type": "execute_result"
    },
    {
     "data": {
      "application/javascript": [
       "\n",
       "            setTimeout(function() {\n",
       "                var nbb_cell_id = 27;\n",
       "                var nbb_unformatted_code = \"# Make a vector of three funtions. Then the method is able to find the\\n# intersection of the domain of the three functions.\\nfind_domain_of_vector_function(make_vector(x ** 2, sqrt(1 - x), -1 / x))\";\n",
       "                var nbb_formatted_code = \"# Make a vector of three funtions. Then the method is able to find the\\n# intersection of the domain of the three functions.\\nfind_domain_of_vector_function(make_vector(x ** 2, sqrt(1 - x), -1 / x))\";\n",
       "                var nbb_cells = Jupyter.notebook.get_cells();\n",
       "                for (var i = 0; i < nbb_cells.length; ++i) {\n",
       "                    if (nbb_cells[i].input_prompt_number == nbb_cell_id) {\n",
       "                        if (nbb_cells[i].get_text() == nbb_unformatted_code) {\n",
       "                             nbb_cells[i].set_text(nbb_formatted_code);\n",
       "                        }\n",
       "                        break;\n",
       "                    }\n",
       "                }\n",
       "            }, 500);\n",
       "            "
      ],
      "text/plain": [
       "<IPython.core.display.Javascript object>"
      ]
     },
     "metadata": {},
     "output_type": "display_data"
    }
   ],
   "source": [
    "# Make a vector of three funtions. Then the method is able to find the\n",
    "# intersection of the domain of the three functions.\n",
    "find_domain_of_vector_function(make_vector(x ** 2, sqrt(1 - x), -1 / x))"
   ]
  },
  {
   "cell_type": "markdown",
   "metadata": {},
   "source": [
    "## 12.2 Calculus of Vector-Valued Functions"
   ]
  },
  {
   "cell_type": "markdown",
   "metadata": {},
   "source": [
    "To integrate and derive functions, I used the sympy libraries."
   ]
  },
  {
   "cell_type": "code",
   "execution_count": 28,
   "metadata": {},
   "outputs": [
    {
     "data": {
      "text/latex": [
       "$\\displaystyle \\int x\\, dx$"
      ],
      "text/plain": [
       "Integral(x, x)"
      ]
     },
     "metadata": {},
     "output_type": "display_data"
    },
    {
     "data": {
      "text/latex": [
       "$\\displaystyle \\frac{x^{2}}{2}$"
      ],
      "text/plain": [
       "x**2/2"
      ]
     },
     "metadata": {},
     "output_type": "display_data"
    },
    {
     "data": {
      "text/latex": [
       "$\\displaystyle \\int\\limits_{0}^{1} x\\, dx$"
      ],
      "text/plain": [
       "Integral(x, (x, 0, 1))"
      ]
     },
     "metadata": {},
     "output_type": "display_data"
    },
    {
     "data": {
      "text/latex": [
       "$\\displaystyle \\frac{1}{2}$"
      ],
      "text/plain": [
       "1/2"
      ]
     },
     "metadata": {},
     "output_type": "display_data"
    },
    {
     "data": {
      "application/javascript": [
       "\n",
       "            setTimeout(function() {\n",
       "                var nbb_cell_id = 28;\n",
       "                var nbb_unformatted_code = \"# The first parameter is the function, the latter is what respect it is integrating to.\\ndisplay(Integral(x, x))\\ndisplay(integrate(x, x))\\n\\n# To calculate definite integrals'\\ndisplay(Integral(x, (x, 0, 1)))\\ndisplay(integrate(x, (x, 0, 1)))\";\n",
       "                var nbb_formatted_code = \"# The first parameter is the function, the latter is what respect it is integrating to.\\ndisplay(Integral(x, x))\\ndisplay(integrate(x, x))\\n\\n# To calculate definite integrals'\\ndisplay(Integral(x, (x, 0, 1)))\\ndisplay(integrate(x, (x, 0, 1)))\";\n",
       "                var nbb_cells = Jupyter.notebook.get_cells();\n",
       "                for (var i = 0; i < nbb_cells.length; ++i) {\n",
       "                    if (nbb_cells[i].input_prompt_number == nbb_cell_id) {\n",
       "                        if (nbb_cells[i].get_text() == nbb_unformatted_code) {\n",
       "                             nbb_cells[i].set_text(nbb_formatted_code);\n",
       "                        }\n",
       "                        break;\n",
       "                    }\n",
       "                }\n",
       "            }, 500);\n",
       "            "
      ],
      "text/plain": [
       "<IPython.core.display.Javascript object>"
      ]
     },
     "metadata": {},
     "output_type": "display_data"
    }
   ],
   "source": [
    "# The first parameter is the function, the latter is what respect it is integrating to.\n",
    "display(Integral(x, x))\n",
    "display(integrate(x, x))\n",
    "\n",
    "# To calculate definite integrals'\n",
    "display(Integral(x, (x, 0, 1)))\n",
    "display(integrate(x, (x, 0, 1)))"
   ]
  },
  {
   "cell_type": "code",
   "execution_count": 29,
   "metadata": {},
   "outputs": [
    {
     "data": {
      "text/latex": [
       "$\\displaystyle \\frac{d}{d x} x^{2}$"
      ],
      "text/plain": [
       "Derivative(x**2, x)"
      ]
     },
     "metadata": {},
     "output_type": "display_data"
    },
    {
     "data": {
      "text/latex": [
       "$\\displaystyle 2 x$"
      ],
      "text/plain": [
       "2*x"
      ]
     },
     "metadata": {},
     "output_type": "display_data"
    },
    {
     "data": {
      "text/latex": [
       "$\\displaystyle 4$"
      ],
      "text/plain": [
       "4"
      ]
     },
     "metadata": {},
     "output_type": "display_data"
    },
    {
     "data": {
      "application/javascript": [
       "\n",
       "            setTimeout(function() {\n",
       "                var nbb_cell_id = 29;\n",
       "                var nbb_unformatted_code = \"# deriving functions are quite similar\\ndisplay(Derivative(x ** 2, x))\\ndisplay(diff(x ** 2, x))\\n\\n# if you want to substitute constants for variables\\ndisplay(diff(x ** 2, x).replace(x, 2))\";\n",
       "                var nbb_formatted_code = \"# deriving functions are quite similar\\ndisplay(Derivative(x ** 2, x))\\ndisplay(diff(x ** 2, x))\\n\\n# if you want to substitute constants for variables\\ndisplay(diff(x ** 2, x).replace(x, 2))\";\n",
       "                var nbb_cells = Jupyter.notebook.get_cells();\n",
       "                for (var i = 0; i < nbb_cells.length; ++i) {\n",
       "                    if (nbb_cells[i].input_prompt_number == nbb_cell_id) {\n",
       "                        if (nbb_cells[i].get_text() == nbb_unformatted_code) {\n",
       "                             nbb_cells[i].set_text(nbb_formatted_code);\n",
       "                        }\n",
       "                        break;\n",
       "                    }\n",
       "                }\n",
       "            }, 500);\n",
       "            "
      ],
      "text/plain": [
       "<IPython.core.display.Javascript object>"
      ]
     },
     "metadata": {},
     "output_type": "display_data"
    }
   ],
   "source": [
    "# deriving functions are quite similar\n",
    "display(Derivative(x ** 2, x))\n",
    "display(diff(x ** 2, x))\n",
    "\n",
    "# if you want to substitute constants for variables\n",
    "display(diff(x ** 2, x).replace(x, 2))"
   ]
  },
  {
   "cell_type": "markdown",
   "metadata": {},
   "source": [
    "Deriving a vector function."
   ]
  },
  {
   "cell_type": "code",
   "execution_count": 30,
   "metadata": {},
   "outputs": [
    {
     "data": {
      "text/latex": [
       "$\\displaystyle \\left[\\begin{matrix}e^{x} & \\cos{\\left(x \\right)} & 92 x^{3}\\end{matrix}\\right]$"
      ],
      "text/plain": [
       "Matrix([[exp(x), cos(x), 92*x**3]])"
      ]
     },
     "execution_count": 30,
     "metadata": {},
     "output_type": "execute_result"
    },
    {
     "data": {
      "application/javascript": [
       "\n",
       "            setTimeout(function() {\n",
       "                var nbb_cell_id = 30;\n",
       "                var nbb_unformatted_code = \"derive_vector_function(make_vector(exp(x), sin(x), 23 * x ** 4))\";\n",
       "                var nbb_formatted_code = \"derive_vector_function(make_vector(exp(x), sin(x), 23 * x ** 4))\";\n",
       "                var nbb_cells = Jupyter.notebook.get_cells();\n",
       "                for (var i = 0; i < nbb_cells.length; ++i) {\n",
       "                    if (nbb_cells[i].input_prompt_number == nbb_cell_id) {\n",
       "                        if (nbb_cells[i].get_text() == nbb_unformatted_code) {\n",
       "                             nbb_cells[i].set_text(nbb_formatted_code);\n",
       "                        }\n",
       "                        break;\n",
       "                    }\n",
       "                }\n",
       "            }, 500);\n",
       "            "
      ],
      "text/plain": [
       "<IPython.core.display.Javascript object>"
      ]
     },
     "metadata": {},
     "output_type": "display_data"
    }
   ],
   "source": [
    "derive_vector_function(make_vector(exp(x), sin(x), 23 * x ** 4))"
   ]
  },
  {
   "cell_type": "markdown",
   "metadata": {},
   "source": [
    "Integrating a vector function."
   ]
  },
  {
   "cell_type": "code",
   "execution_count": 31,
   "metadata": {},
   "outputs": [
    {
     "data": {
      "text/latex": [
       "$\\displaystyle \\left[\\begin{matrix}e^{x} & - \\cos{\\left(x \\right)} & \\frac{23 x^{5}}{5}\\end{matrix}\\right]$"
      ],
      "text/plain": [
       "Matrix([[exp(x), -cos(x), 23*x**5/5]])"
      ]
     },
     "execution_count": 31,
     "metadata": {},
     "output_type": "execute_result"
    },
    {
     "data": {
      "application/javascript": [
       "\n",
       "            setTimeout(function() {\n",
       "                var nbb_cell_id = 31;\n",
       "                var nbb_unformatted_code = \"integrate_vector_function(make_vector(exp(x), sin(x), 23 * x ** 4))\";\n",
       "                var nbb_formatted_code = \"integrate_vector_function(make_vector(exp(x), sin(x), 23 * x ** 4))\";\n",
       "                var nbb_cells = Jupyter.notebook.get_cells();\n",
       "                for (var i = 0; i < nbb_cells.length; ++i) {\n",
       "                    if (nbb_cells[i].input_prompt_number == nbb_cell_id) {\n",
       "                        if (nbb_cells[i].get_text() == nbb_unformatted_code) {\n",
       "                             nbb_cells[i].set_text(nbb_formatted_code);\n",
       "                        }\n",
       "                        break;\n",
       "                    }\n",
       "                }\n",
       "            }, 500);\n",
       "            "
      ],
      "text/plain": [
       "<IPython.core.display.Javascript object>"
      ]
     },
     "metadata": {},
     "output_type": "display_data"
    }
   ],
   "source": [
    "integrate_vector_function(make_vector(exp(x), sin(x), 23 * x ** 4))"
   ]
  },
  {
   "cell_type": "markdown",
   "metadata": {},
   "source": [
    "Finding a tangent line to a curve."
   ]
  },
  {
   "cell_type": "code",
   "execution_count": 32,
   "metadata": {},
   "outputs": [
    {
     "name": "stdout",
     "output_type": "stream",
     "text": [
      "<x,y,z> = <0,2,1> + <1,1,2>t\n",
      "<x,y,z> = <0,-1,0> + <-1,0,1>t\n"
     ]
    },
    {
     "data": {
      "application/javascript": [
       "\n",
       "            setTimeout(function() {\n",
       "                var nbb_cell_id = 32;\n",
       "                var nbb_unformatted_code = \"# the method can take a Point object or a constant, where t = 0, pi, etc.\\nprint(tangent_line(make_vector(ln(x), 2 * sqrt(x), x ** 2), Point(0, 2, 1)))\\n# or when t = pi\\nprint(tangent_line(make_vector(sin(x), cos(x), tan(x)), pi, True))\";\n",
       "                var nbb_formatted_code = \"# the method can take a Point object or a constant, where t = 0, pi, etc.\\nprint(tangent_line(make_vector(ln(x), 2 * sqrt(x), x ** 2), Point(0, 2, 1)))\\n# or when t = pi\\nprint(tangent_line(make_vector(sin(x), cos(x), tan(x)), pi, True))\";\n",
       "                var nbb_cells = Jupyter.notebook.get_cells();\n",
       "                for (var i = 0; i < nbb_cells.length; ++i) {\n",
       "                    if (nbb_cells[i].input_prompt_number == nbb_cell_id) {\n",
       "                        if (nbb_cells[i].get_text() == nbb_unformatted_code) {\n",
       "                             nbb_cells[i].set_text(nbb_formatted_code);\n",
       "                        }\n",
       "                        break;\n",
       "                    }\n",
       "                }\n",
       "            }, 500);\n",
       "            "
      ],
      "text/plain": [
       "<IPython.core.display.Javascript object>"
      ]
     },
     "metadata": {},
     "output_type": "display_data"
    }
   ],
   "source": [
    "# the method can take a Point object or a constant, where t = 0, pi, etc.\n",
    "print(tangent_line(make_vector(ln(x), 2 * sqrt(x), x ** 2), Point(0, 2, 1)))\n",
    "# or when t = pi\n",
    "print(tangent_line(make_vector(sin(x), cos(x), tan(x)), pi, True))"
   ]
  },
  {
   "cell_type": "markdown",
   "metadata": {},
   "source": [
    "# Chapter 13: Partial Derivatives"
   ]
  },
  {
   "cell_type": "markdown",
   "metadata": {},
   "source": [
    "## 13.1 Functions of Two of More Variables"
   ]
  },
  {
   "cell_type": "code",
   "execution_count": 33,
   "metadata": {},
   "outputs": [
    {
     "data": {
      "image/png": "[encoded data removed]",
      "text/plain": [
       "<Figure size 432x288 with 2 Axes>"
      ]
     },
     "metadata": {
      "needs_background": "light"
     },
     "output_type": "display_data"
    },
    {
     "data": {
      "image/png": "[encoded data removed]",
      "text/plain": [
       "<Figure size 432x288 with 1 Axes>"
      ]
     },
     "metadata": {
      "needs_background": "light"
     },
     "output_type": "display_data"
    },
    {
     "data": {
      "application/javascript": [
       "\n",
       "            setTimeout(function() {\n",
       "                var nbb_cell_id = 33;\n",
       "                var nbb_unformatted_code = \"graph_contour(\\\"np.cos(Y)\\\", [-3, 3], [-3, 3])\\ngraph_model(\\\"np.cos(Y)\\\", [-3, 3], [-3, 3])\";\n",
       "                var nbb_formatted_code = \"graph_contour(\\\"np.cos(Y)\\\", [-3, 3], [-3, 3])\\ngraph_model(\\\"np.cos(Y)\\\", [-3, 3], [-3, 3])\";\n",
       "                var nbb_cells = Jupyter.notebook.get_cells();\n",
       "                for (var i = 0; i < nbb_cells.length; ++i) {\n",
       "                    if (nbb_cells[i].input_prompt_number == nbb_cell_id) {\n",
       "                        if (nbb_cells[i].get_text() == nbb_unformatted_code) {\n",
       "                             nbb_cells[i].set_text(nbb_formatted_code);\n",
       "                        }\n",
       "                        break;\n",
       "                    }\n",
       "                }\n",
       "            }, 500);\n",
       "            "
      ],
      "text/plain": [
       "<IPython.core.display.Javascript object>"
      ]
     },
     "metadata": {},
     "output_type": "display_data"
    }
   ],
   "source": [
    "graph_contour(\"np.cos(Y)\", [-3, 3], [-3, 3])\n",
    "graph_model(\"np.cos(Y)\", [-3, 3], [-3, 3])"
   ]
  },
  {
   "cell_type": "code",
   "execution_count": 34,
   "metadata": {},
   "outputs": [
    {
     "data": {
      "image/png": "[encoded data removed]",
      "text/plain": [
       "<Figure size 432x288 with 2 Axes>"
      ]
     },
     "metadata": {
      "needs_background": "light"
     },
     "output_type": "display_data"
    },
    {
     "data": {
      "image/png": "[encoded data removed]",
      "text/plain": [
       "<Figure size 432x288 with 1 Axes>"
      ]
     },
     "metadata": {
      "needs_background": "light"
     },
     "output_type": "display_data"
    },
    {
     "data": {
      "application/javascript": [
       "\n",
       "            setTimeout(function() {\n",
       "                var nbb_cell_id = 34;\n",
       "                var nbb_unformatted_code = \"graph_contour(\\\"X * Y * np.exp((-1 / 2) * (X ** 2 + Y ** 2))\\\", [-3, 3], [-3, 3])\\ngraph_model(\\\"X * Y * np.exp((-1 / 2) * (X ** 2 + Y ** 2))\\\", [-3, 3], [-3, 3])\";\n",
       "                var nbb_formatted_code = \"graph_contour(\\\"X * Y * np.exp((-1 / 2) * (X ** 2 + Y ** 2))\\\", [-3, 3], [-3, 3])\\ngraph_model(\\\"X * Y * np.exp((-1 / 2) * (X ** 2 + Y ** 2))\\\", [-3, 3], [-3, 3])\";\n",
       "                var nbb_cells = Jupyter.notebook.get_cells();\n",
       "                for (var i = 0; i < nbb_cells.length; ++i) {\n",
       "                    if (nbb_cells[i].input_prompt_number == nbb_cell_id) {\n",
       "                        if (nbb_cells[i].get_text() == nbb_unformatted_code) {\n",
       "                             nbb_cells[i].set_text(nbb_formatted_code);\n",
       "                        }\n",
       "                        break;\n",
       "                    }\n",
       "                }\n",
       "            }, 500);\n",
       "            "
      ],
      "text/plain": [
       "<IPython.core.display.Javascript object>"
      ]
     },
     "metadata": {},
     "output_type": "display_data"
    }
   ],
   "source": [
    "graph_contour(\"X * Y * np.exp((-1 / 2) * (X ** 2 + Y ** 2))\", [-3, 3], [-3, 3])\n",
    "graph_model(\"X * Y * np.exp((-1 / 2) * (X ** 2 + Y ** 2))\", [-3, 3], [-3, 3])"
   ]
  },
  {
   "cell_type": "markdown",
   "metadata": {},
   "source": [
    "## 13.3 Partial Derivatives"
   ]
  },
  {
   "cell_type": "markdown",
   "metadata": {},
   "source": [
    "Partial Derivatives:\n",
    "$$f(x,y) = \\tan^{-1}(4x-7y) \\\\\\frac{\\partial f}{\\partial x} = \\dfrac{4}{(4x-7y)^{2}+1} $$"
   ]
  },
  {
   "cell_type": "code",
   "execution_count": 35,
   "metadata": {},
   "outputs": [
    {
     "data": {
      "text/latex": [
       "$\\displaystyle \\frac{\\partial}{\\partial x} \\operatorname{atan}{\\left(4 x - 7 y \\right)}$"
      ],
      "text/plain": [
       "Derivative(atan(4*x - 7*y), x)"
      ]
     },
     "metadata": {},
     "output_type": "display_data"
    },
    {
     "data": {
      "text/latex": [
       "$\\displaystyle \\frac{4}{\\left(4 x - 7 y\\right)^{2} + 1}$"
      ],
      "text/plain": [
       "4/((4*x - 7*y)**2 + 1)"
      ]
     },
     "metadata": {},
     "output_type": "display_data"
    },
    {
     "data": {
      "text/latex": [
       "$\\displaystyle \\frac{\\partial}{\\partial y} \\operatorname{atan}{\\left(4 x - 7 y \\right)}$"
      ],
      "text/plain": [
       "Derivative(atan(4*x - 7*y), y)"
      ]
     },
     "metadata": {},
     "output_type": "display_data"
    },
    {
     "data": {
      "text/latex": [
       "$\\displaystyle - \\frac{7}{\\left(4 x - 7 y\\right)^{2} + 1}$"
      ],
      "text/plain": [
       "-7/((4*x - 7*y)**2 + 1)"
      ]
     },
     "metadata": {},
     "output_type": "display_data"
    },
    {
     "data": {
      "text/latex": [
       "$\\displaystyle \\frac{\\partial^{2}}{\\partial x^{2}} \\operatorname{atan}{\\left(4 x - 7 y \\right)}$"
      ],
      "text/plain": [
       "Derivative(atan(4*x - 7*y), (x, 2))"
      ]
     },
     "metadata": {},
     "output_type": "display_data"
    },
    {
     "data": {
      "text/latex": [
       "$\\displaystyle - \\frac{32 \\left(4 x - 7 y\\right)}{\\left(\\left(4 x - 7 y\\right)^{2} + 1\\right)^{2}}$"
      ],
      "text/plain": [
       "-32*(4*x - 7*y)/((4*x - 7*y)**2 + 1)**2"
      ]
     },
     "metadata": {},
     "output_type": "display_data"
    },
    {
     "data": {
      "application/javascript": [
       "\n",
       "            setTimeout(function() {\n",
       "                var nbb_cell_id = 35;\n",
       "                var nbb_unformatted_code = \"f = atan(4 * x - 7 * y)\\ndisplay(Derivative(f, x))\\ndisplay(diff(f, x))\\ndisplay(Derivative(f, y))\\ndisplay(diff(f, y))\\n\\n# if you want to derive twice\\ndisplay(Derivative(f, x, 2))\\ndisplay(diff(f, x, 2))\";\n",
       "                var nbb_formatted_code = \"f = atan(4 * x - 7 * y)\\ndisplay(Derivative(f, x))\\ndisplay(diff(f, x))\\ndisplay(Derivative(f, y))\\ndisplay(diff(f, y))\\n\\n# if you want to derive twice\\ndisplay(Derivative(f, x, 2))\\ndisplay(diff(f, x, 2))\";\n",
       "                var nbb_cells = Jupyter.notebook.get_cells();\n",
       "                for (var i = 0; i < nbb_cells.length; ++i) {\n",
       "                    if (nbb_cells[i].input_prompt_number == nbb_cell_id) {\n",
       "                        if (nbb_cells[i].get_text() == nbb_unformatted_code) {\n",
       "                             nbb_cells[i].set_text(nbb_formatted_code);\n",
       "                        }\n",
       "                        break;\n",
       "                    }\n",
       "                }\n",
       "            }, 500);\n",
       "            "
      ],
      "text/plain": [
       "<IPython.core.display.Javascript object>"
      ]
     },
     "metadata": {},
     "output_type": "display_data"
    }
   ],
   "source": [
    "f = atan(4 * x - 7 * y)\n",
    "display(Derivative(f, x))\n",
    "display(diff(f, x))\n",
    "display(Derivative(f, y))\n",
    "display(diff(f, y))\n",
    "\n",
    "# if you want to derive twice\n",
    "display(Derivative(f, x, 2))\n",
    "display(diff(f, x, 2))"
   ]
  },
  {
   "cell_type": "markdown",
   "metadata": {},
   "source": [
    "Implicit Differientiation:\n",
    "$$\\frac{\\partial z}{\\partial x}$$"
   ]
  },
  {
   "cell_type": "code",
   "execution_count": 36,
   "metadata": {},
   "outputs": [
    {
     "data": {
      "text/latex": [
       "$\\displaystyle \\frac{x}{36 z}$"
      ],
      "text/plain": [
       "x/(36*z)"
      ]
     },
     "execution_count": 36,
     "metadata": {},
     "output_type": "execute_result"
    },
    {
     "data": {
      "application/javascript": [
       "\n",
       "            setTimeout(function() {\n",
       "                var nbb_cell_id = 36;\n",
       "                var nbb_unformatted_code = \"# there is also implicit differientiation\\ng = x ** 2 + 4 * y ** 2 - 36 * z ** 2 + 19\\n\\n# the result would be \\u2202z/\\u2202x\\nidiff(g, z, x)\";\n",
       "                var nbb_formatted_code = \"# there is also implicit differientiation\\ng = x ** 2 + 4 * y ** 2 - 36 * z ** 2 + 19\\n\\n# the result would be \\u2202z/\\u2202x\\nidiff(g, z, x)\";\n",
       "                var nbb_cells = Jupyter.notebook.get_cells();\n",
       "                for (var i = 0; i < nbb_cells.length; ++i) {\n",
       "                    if (nbb_cells[i].input_prompt_number == nbb_cell_id) {\n",
       "                        if (nbb_cells[i].get_text() == nbb_unformatted_code) {\n",
       "                             nbb_cells[i].set_text(nbb_formatted_code);\n",
       "                        }\n",
       "                        break;\n",
       "                    }\n",
       "                }\n",
       "            }, 500);\n",
       "            "
      ],
      "text/plain": [
       "<IPython.core.display.Javascript object>"
      ]
     },
     "metadata": {},
     "output_type": "display_data"
    }
   ],
   "source": [
    "# there is also implicit differientiation\n",
    "g = x ** 2 + 4 * y ** 2 - 36 * z ** 2 + 19\n",
    "\n",
    "# the result would be ∂z/∂x\n",
    "idiff(g, z, x)"
   ]
  },
  {
   "cell_type": "markdown",
   "metadata": {},
   "source": [
    "## 13.4 Local Linearity"
   ]
  },
  {
   "cell_type": "markdown",
   "metadata": {},
   "source": [
    "Finding the linearization of a function.\n",
    "$$L(x,y) = f_{x}(x-x_{0}) + f_{y}(y-y_{0})+f(x,y)$$"
   ]
  },
  {
   "cell_type": "code",
   "execution_count": 37,
   "metadata": {},
   "outputs": [
    {
     "data": {
      "text/latex": [
       "$\\displaystyle - 5 x - 8 y - 3 z + 8$"
      ],
      "text/plain": [
       "-5*x - 8*y - 3*z + 8"
      ]
     },
     "execution_count": 37,
     "metadata": {},
     "output_type": "execute_result"
    },
    {
     "data": {
      "application/javascript": [
       "\n",
       "            setTimeout(function() {\n",
       "                var nbb_cell_id = 37;\n",
       "                var nbb_unformatted_code = \"find_linearization(3 * x ** 2 - 2 * y ** 2 + x * z ** 3, Point(-1, 2, 1))\";\n",
       "                var nbb_formatted_code = \"find_linearization(3 * x ** 2 - 2 * y ** 2 + x * z ** 3, Point(-1, 2, 1))\";\n",
       "                var nbb_cells = Jupyter.notebook.get_cells();\n",
       "                for (var i = 0; i < nbb_cells.length; ++i) {\n",
       "                    if (nbb_cells[i].input_prompt_number == nbb_cell_id) {\n",
       "                        if (nbb_cells[i].get_text() == nbb_unformatted_code) {\n",
       "                             nbb_cells[i].set_text(nbb_formatted_code);\n",
       "                        }\n",
       "                        break;\n",
       "                    }\n",
       "                }\n",
       "            }, 500);\n",
       "            "
      ],
      "text/plain": [
       "<IPython.core.display.Javascript object>"
      ]
     },
     "metadata": {},
     "output_type": "display_data"
    }
   ],
   "source": [
    "find_linearization(3 * x ** 2 - 2 * y ** 2 + x * z ** 3, Point(-1, 2, 1))"
   ]
  },
  {
   "cell_type": "markdown",
   "metadata": {},
   "source": [
    "## 13.5 The Chain Rule"
   ]
  },
  {
   "cell_type": "markdown",
   "metadata": {},
   "source": [
    "Completing the chain rule.\n",
    "$$\\frac{\\partial z}{\\partial s} = \\frac{\\partial z}{\\partial x}\\frac{\\partial x}{\\partial s}+\\frac{\\partial z}{\\partial y}\\frac{\\partial y}{\\partial s}$$"
   ]
  },
  {
   "cell_type": "code",
   "execution_count": 38,
   "metadata": {},
   "outputs": [
    {
     "data": {
      "text/latex": [
       "$\\displaystyle s^{2} \\sin{\\left(t^{4} \\right)} + 2 s \\left(s - t\\right) \\sin{\\left(t^{4} \\right)}$"
      ],
      "text/plain": [
       "s**2*sin(t**4) + 2*s*(s - t)*sin(t**4)"
      ]
     },
     "metadata": {},
     "output_type": "display_data"
    },
    {
     "data": {
      "text/latex": [
       "$\\displaystyle \\frac{\\partial}{\\partial x} x y \\sin{\\left(z^{2} \\right)}$"
      ],
      "text/plain": [
       "Derivative(x*y*sin(z**2), x)"
      ]
     },
     "metadata": {},
     "output_type": "display_data"
    },
    {
     "data": {
      "text/latex": [
       "$\\displaystyle y \\sin{\\left(z^{2} \\right)}$"
      ],
      "text/plain": [
       "y*sin(z**2)"
      ]
     },
     "metadata": {},
     "output_type": "display_data"
    },
    {
     "data": {
      "text/latex": [
       "$\\displaystyle \\frac{\\partial}{\\partial y} x y \\sin{\\left(z^{2} \\right)}$"
      ],
      "text/plain": [
       "Derivative(x*y*sin(z**2), y)"
      ]
     },
     "metadata": {},
     "output_type": "display_data"
    },
    {
     "data": {
      "text/latex": [
       "$\\displaystyle x \\sin{\\left(z^{2} \\right)}$"
      ],
      "text/plain": [
       "x*sin(z**2)"
      ]
     },
     "metadata": {},
     "output_type": "display_data"
    },
    {
     "data": {
      "text/latex": [
       "$\\displaystyle \\frac{\\partial}{\\partial z} x y \\sin{\\left(z^{2} \\right)}$"
      ],
      "text/plain": [
       "Derivative(x*y*sin(z**2), z)"
      ]
     },
     "metadata": {},
     "output_type": "display_data"
    },
    {
     "data": {
      "text/latex": [
       "$\\displaystyle 2 x y z \\cos{\\left(z^{2} \\right)}$"
      ],
      "text/plain": [
       "2*x*y*z*cos(z**2)"
      ]
     },
     "metadata": {},
     "output_type": "display_data"
    },
    {
     "data": {
      "text/latex": [
       "$\\displaystyle \\frac{\\partial}{\\partial s} \\left(s - t\\right)$"
      ],
      "text/plain": [
       "Derivative(s - t, s)"
      ]
     },
     "metadata": {},
     "output_type": "display_data"
    },
    {
     "data": {
      "text/latex": [
       "$\\displaystyle 1$"
      ],
      "text/plain": [
       "1"
      ]
     },
     "metadata": {},
     "output_type": "display_data"
    },
    {
     "data": {
      "text/latex": [
       "$\\displaystyle \\frac{d}{d s} s^{2}$"
      ],
      "text/plain": [
       "Derivative(s**2, s)"
      ]
     },
     "metadata": {},
     "output_type": "display_data"
    },
    {
     "data": {
      "text/latex": [
       "$\\displaystyle 2 s$"
      ],
      "text/plain": [
       "2*s"
      ]
     },
     "metadata": {},
     "output_type": "display_data"
    },
    {
     "data": {
      "text/latex": [
       "$\\displaystyle \\frac{d}{d s} t^{2}$"
      ],
      "text/plain": [
       "Derivative(t**2, s)"
      ]
     },
     "metadata": {},
     "output_type": "display_data"
    },
    {
     "data": {
      "text/latex": [
       "$\\displaystyle 0$"
      ],
      "text/plain": [
       "0"
      ]
     },
     "metadata": {},
     "output_type": "display_data"
    },
    {
     "data": {
      "text/latex": [
       "$\\displaystyle s^{2} \\sin{\\left(t^{4} \\right)} + 2 s \\left(s - t\\right) \\sin{\\left(t^{4} \\right)}$"
      ],
      "text/plain": [
       "s**2*sin(t**4) + 2*s*(s - t)*sin(t**4)"
      ]
     },
     "metadata": {},
     "output_type": "display_data"
    },
    {
     "data": {
      "application/javascript": [
       "\n",
       "            setTimeout(function() {\n",
       "                var nbb_cell_id = 38;\n",
       "                var nbb_unformatted_code = \"t, s = symbols(\\\"t s\\\")\\ndisplay(chain_rule(x * y * sin(z ** 2), s - t, s ** 2, t ** 2, s))\\n\\n# You can also see the partial derivatives at each step.\\ndisplay(chain_rule(x * y * sin(z ** 2), s - t, s ** 2, t ** 2, s, True))\";\n",
       "                var nbb_formatted_code = \"t, s = symbols(\\\"t s\\\")\\ndisplay(chain_rule(x * y * sin(z ** 2), s - t, s ** 2, t ** 2, s))\\n\\n# You can also see the partial derivatives at each step.\\ndisplay(chain_rule(x * y * sin(z ** 2), s - t, s ** 2, t ** 2, s, True))\";\n",
       "                var nbb_cells = Jupyter.notebook.get_cells();\n",
       "                for (var i = 0; i < nbb_cells.length; ++i) {\n",
       "                    if (nbb_cells[i].input_prompt_number == nbb_cell_id) {\n",
       "                        if (nbb_cells[i].get_text() == nbb_unformatted_code) {\n",
       "                             nbb_cells[i].set_text(nbb_formatted_code);\n",
       "                        }\n",
       "                        break;\n",
       "                    }\n",
       "                }\n",
       "            }, 500);\n",
       "            "
      ],
      "text/plain": [
       "<IPython.core.display.Javascript object>"
      ]
     },
     "metadata": {},
     "output_type": "display_data"
    }
   ],
   "source": [
    "t, s = symbols(\"t s\")\n",
    "display(chain_rule(x * y * sin(z ** 2), s - t, s ** 2, t ** 2, s))\n",
    "\n",
    "# You can also see the partial derivatives at each step.\n",
    "display(chain_rule(x * y * sin(z ** 2), s - t, s ** 2, t ** 2, s, True))"
   ]
  },
  {
   "cell_type": "markdown",
   "metadata": {},
   "source": [
    "## 13.6 Directional Derivatives and Gradients"
   ]
  },
  {
   "cell_type": "markdown",
   "metadata": {},
   "source": [
    "Finding the gradient and the directional derivative.\n",
    "\n",
    "Gradient: $$\\nabla f(x_{0},y_{0}, z_{0}) = <f_{x}(x_{0},y_{0}, z_{0}), f_{y}(x_{0},y_{0}, z_{0}), f_{z}(x_{0},y_{0}, z_{0})>$$\n",
    "\n",
    "Directional Derivative: $$D_{\\vec{u}}f(x_{0},y_{0}, z_{0}) = \\nabla f(x_{0},y_{0}, z_{0}) \\cdot\\vec{u}$$"
   ]
  },
  {
   "cell_type": "code",
   "execution_count": 39,
   "metadata": {},
   "outputs": [
    {
     "data": {
      "text/latex": [
       "$\\displaystyle \\left[\\begin{matrix}12 & 6 & 33\\end{matrix}\\right]$"
      ],
      "text/plain": [
       "Matrix([[12, 6, 33]])"
      ]
     },
     "metadata": {},
     "output_type": "display_data"
    },
    {
     "data": {
      "text/latex": [
       "$\\displaystyle - \\frac{\\sqrt{14} e}{7}$"
      ],
      "text/plain": [
       "-sqrt(14)*E/7"
      ]
     },
     "metadata": {},
     "output_type": "display_data"
    },
    {
     "data": {
      "application/javascript": [
       "\n",
       "            setTimeout(function() {\n",
       "                var nbb_cell_id = 39;\n",
       "                var nbb_unformatted_code = \"display(find_gradient(4 * x * y * z - y ** 2 * z ** 3 + 4 * z ** 3 * y, Point(2, 3, 1)))\\ndisplay(\\n    directional_derivative(exp(x) * cos(y * z), Point(1, pi, 0), make_vector(-2, 1, -3))\\n)\";\n",
       "                var nbb_formatted_code = \"display(find_gradient(4 * x * y * z - y ** 2 * z ** 3 + 4 * z ** 3 * y, Point(2, 3, 1)))\\ndisplay(\\n    directional_derivative(exp(x) * cos(y * z), Point(1, pi, 0), make_vector(-2, 1, -3))\\n)\";\n",
       "                var nbb_cells = Jupyter.notebook.get_cells();\n",
       "                for (var i = 0; i < nbb_cells.length; ++i) {\n",
       "                    if (nbb_cells[i].input_prompt_number == nbb_cell_id) {\n",
       "                        if (nbb_cells[i].get_text() == nbb_unformatted_code) {\n",
       "                             nbb_cells[i].set_text(nbb_formatted_code);\n",
       "                        }\n",
       "                        break;\n",
       "                    }\n",
       "                }\n",
       "            }, 500);\n",
       "            "
      ],
      "text/plain": [
       "<IPython.core.display.Javascript object>"
      ]
     },
     "metadata": {},
     "output_type": "display_data"
    }
   ],
   "source": [
    "display(find_gradient(4 * x * y * z - y ** 2 * z ** 3 + 4 * z ** 3 * y, Point(2, 3, 1)))\n",
    "display(\n",
    "    directional_derivative(exp(x) * cos(y * z), Point(1, pi, 0), make_vector(-2, 1, -3))\n",
    ")"
   ]
  },
  {
   "cell_type": "markdown",
   "metadata": {},
   "source": [
    "You can also recieve more information about directional derivatives with the method:\n",
    "\n",
    "directional_derivative_info(f, p, increasing=True)."
   ]
  },
  {
   "cell_type": "code",
   "execution_count": 40,
   "metadata": {},
   "outputs": [
    {
     "data": {
      "text/latex": [
       "$\\displaystyle 3 \\sqrt{13} e^{9}$"
      ],
      "text/plain": [
       "3*sqrt(13)*exp(9)"
      ]
     },
     "metadata": {},
     "output_type": "display_data"
    },
    {
     "data": {
      "text/latex": [
       "$\\displaystyle \\left[\\begin{matrix}\\frac{3 \\sqrt{13}}{13} & \\frac{2 \\sqrt{13}}{13} & 0\\end{matrix}\\right]$"
      ],
      "text/plain": [
       "Matrix([[3*sqrt(13)/13, 2*sqrt(13)/13, 0]])"
      ]
     },
     "metadata": {},
     "output_type": "display_data"
    },
    {
     "data": {
      "application/javascript": [
       "\n",
       "            setTimeout(function() {\n",
       "                var nbb_cell_id = 40;\n",
       "                var nbb_unformatted_code = \"display(directional_derivative_info(exp(x * y ** 2), Point(1, 3, 0))[0])\\ndisplay(directional_derivative_info(exp(x * y ** 2), Point(1, 3, 0))[1])\\n# It returns as a tuple, the first element is the maximum\\n# and the second is the direction, unit vector\";\n",
       "                var nbb_formatted_code = \"display(directional_derivative_info(exp(x * y ** 2), Point(1, 3, 0))[0])\\ndisplay(directional_derivative_info(exp(x * y ** 2), Point(1, 3, 0))[1])\\n# It returns as a tuple, the first element is the maximum\\n# and the second is the direction, unit vector\";\n",
       "                var nbb_cells = Jupyter.notebook.get_cells();\n",
       "                for (var i = 0; i < nbb_cells.length; ++i) {\n",
       "                    if (nbb_cells[i].input_prompt_number == nbb_cell_id) {\n",
       "                        if (nbb_cells[i].get_text() == nbb_unformatted_code) {\n",
       "                             nbb_cells[i].set_text(nbb_formatted_code);\n",
       "                        }\n",
       "                        break;\n",
       "                    }\n",
       "                }\n",
       "            }, 500);\n",
       "            "
      ],
      "text/plain": [
       "<IPython.core.display.Javascript object>"
      ]
     },
     "metadata": {},
     "output_type": "display_data"
    }
   ],
   "source": [
    "display(directional_derivative_info(exp(x * y ** 2), Point(1, 3, 0))[0])\n",
    "display(directional_derivative_info(exp(x * y ** 2), Point(1, 3, 0))[1])\n",
    "# It returns as a tuple, the first element is the maximum\n",
    "# and the second is the direction, unit vector"
   ]
  },
  {
   "cell_type": "markdown",
   "metadata": {},
   "source": [
    "## 13.7 Tangent Planes and Normal Vectors"
   ]
  },
  {
   "cell_type": "markdown",
   "metadata": {},
   "source": [
    "Finding tangent plane and normal vector. \n",
    "\n",
    "Tangent Plane:\n",
    "\n",
    "$$\\text{Given } \\nabla \\vec{F}(x_{0},y_{0}, z_{0}): $$\n",
    "$$P: F_{x}(x_{0},y_{0}, z_{0})(x-x_{0})+F_{y}(x_{0},y_{0}, z_{0})(y-y_{0})+F_{z}(x_{0},y_{0}, z_{0})(z-z_{0})=0$$\n",
    "\n",
    "Normal Line:\n",
    "$$\\vec{l}(t) = <x_{0},y_{0}, z_{0}> + <F_{x}, F_{y}, F_{z}>t$$"
   ]
  },
  {
   "cell_type": "code",
   "execution_count": 41,
   "metadata": {},
   "outputs": [
    {
     "data": {
      "text/latex": [
       "$\\displaystyle \\frac{x + 1}{e^{2}} + \\frac{y - e^{2}}{e^{2}} + \\frac{z - 1}{e^{2}}$"
      ],
      "text/plain": [
       "(x + 1)*exp(-2) + (y - exp(2))*exp(-2) + (z - 1)*exp(-2)"
      ]
     },
     "metadata": {},
     "output_type": "display_data"
    },
    {
     "name": "stdout",
     "output_type": "stream",
     "text": [
      "<x,y,z> = <-1,exp(2),1> + <exp(-2),exp(-2),exp(-2)>t\n"
     ]
    },
    {
     "data": {
      "application/javascript": [
       "\n",
       "            setTimeout(function() {\n",
       "                var nbb_cell_id = 41;\n",
       "                var nbb_unformatted_code = \"display(tangent_plane(ln(x + y + z), Point(-1, exp(2), 1)))\\nprint(normal_lines(ln(x + y + z), Point(-1, exp(2), 1)))\";\n",
       "                var nbb_formatted_code = \"display(tangent_plane(ln(x + y + z), Point(-1, exp(2), 1)))\\nprint(normal_lines(ln(x + y + z), Point(-1, exp(2), 1)))\";\n",
       "                var nbb_cells = Jupyter.notebook.get_cells();\n",
       "                for (var i = 0; i < nbb_cells.length; ++i) {\n",
       "                    if (nbb_cells[i].input_prompt_number == nbb_cell_id) {\n",
       "                        if (nbb_cells[i].get_text() == nbb_unformatted_code) {\n",
       "                             nbb_cells[i].set_text(nbb_formatted_code);\n",
       "                        }\n",
       "                        break;\n",
       "                    }\n",
       "                }\n",
       "            }, 500);\n",
       "            "
      ],
      "text/plain": [
       "<IPython.core.display.Javascript object>"
      ]
     },
     "metadata": {},
     "output_type": "display_data"
    }
   ],
   "source": [
    "display(tangent_plane(ln(x + y + z), Point(-1, exp(2), 1)))\n",
    "print(normal_lines(ln(x + y + z), Point(-1, exp(2), 1)))"
   ]
  },
  {
   "cell_type": "markdown",
   "metadata": {},
   "source": [
    "## 13.8 Maxima and Minima of Functions of Two Variables"
   ]
  },
  {
   "cell_type": "markdown",
   "metadata": {},
   "source": [
    "Finding the relative extrema of a function."
   ]
  },
  {
   "cell_type": "code",
   "execution_count": 42,
   "metadata": {},
   "outputs": [
    {
     "name": "stdout",
     "output_type": "stream",
     "text": [
      "Saddle point: (-1, 3)\n",
      "Relative minimum: (1, 3)\n"
     ]
    },
    {
     "data": {
      "application/javascript": [
       "\n",
       "            setTimeout(function() {\n",
       "                var nbb_cell_id = 42;\n",
       "                var nbb_unformatted_code = \"find_relative_extreme(x ** 3 - 3 * x + y ** 2 - 6 * y)\";\n",
       "                var nbb_formatted_code = \"find_relative_extreme(x ** 3 - 3 * x + y ** 2 - 6 * y)\";\n",
       "                var nbb_cells = Jupyter.notebook.get_cells();\n",
       "                for (var i = 0; i < nbb_cells.length; ++i) {\n",
       "                    if (nbb_cells[i].input_prompt_number == nbb_cell_id) {\n",
       "                        if (nbb_cells[i].get_text() == nbb_unformatted_code) {\n",
       "                             nbb_cells[i].set_text(nbb_formatted_code);\n",
       "                        }\n",
       "                        break;\n",
       "                    }\n",
       "                }\n",
       "            }, 500);\n",
       "            "
      ],
      "text/plain": [
       "<IPython.core.display.Javascript object>"
      ]
     },
     "metadata": {},
     "output_type": "display_data"
    }
   ],
   "source": [
    "find_relative_extreme(x ** 3 - 3 * x + y ** 2 - 6 * y)"
   ]
  },
  {
   "cell_type": "code",
   "execution_count": 43,
   "metadata": {},
   "outputs": [
    {
     "data": {
      "application/javascript": [
       "\n",
       "            setTimeout(function() {\n",
       "                var nbb_cell_id = 43;\n",
       "                var nbb_unformatted_code = \"# Finding the absolute extrema is a work in progress.\";\n",
       "                var nbb_formatted_code = \"# Finding the absolute extrema is a work in progress.\";\n",
       "                var nbb_cells = Jupyter.notebook.get_cells();\n",
       "                for (var i = 0; i < nbb_cells.length; ++i) {\n",
       "                    if (nbb_cells[i].input_prompt_number == nbb_cell_id) {\n",
       "                        if (nbb_cells[i].get_text() == nbb_unformatted_code) {\n",
       "                             nbb_cells[i].set_text(nbb_formatted_code);\n",
       "                        }\n",
       "                        break;\n",
       "                    }\n",
       "                }\n",
       "            }, 500);\n",
       "            "
      ],
      "text/plain": [
       "<IPython.core.display.Javascript object>"
      ]
     },
     "metadata": {},
     "output_type": "display_data"
    }
   ],
   "source": [
    "# Finding the absolute extrema is a work in progress."
   ]
  },
  {
   "cell_type": "markdown",
   "metadata": {},
   "source": [
    "# Chapter 14: Multiple Integrals"
   ]
  },
  {
   "cell_type": "markdown",
   "metadata": {},
   "source": [
    "## 14.1 Double Integrals"
   ]
  },
  {
   "cell_type": "code",
   "execution_count": 44,
   "metadata": {},
   "outputs": [
    {
     "data": {
      "text/latex": [
       "$\\displaystyle \\int\\limits_{0}^{1}\\int\\limits_{0}^{2} \\left(3 x^{3} - y^{2} + 2\\right)\\, dx\\, dy$"
      ],
      "text/plain": [
       "Integral(3*x**3 - y**2 + 2, (x, 0, 2), (y, 0, 1))"
      ]
     },
     "metadata": {},
     "output_type": "display_data"
    },
    {
     "data": {
      "text/latex": [
       "$\\displaystyle \\frac{46}{3}$"
      ],
      "text/plain": [
       "46/3"
      ]
     },
     "metadata": {},
     "output_type": "display_data"
    },
    {
     "data": {
      "application/javascript": [
       "\n",
       "            setTimeout(function() {\n",
       "                var nbb_cell_id = 44;\n",
       "                var nbb_unformatted_code = \"# double integrals\\nf = 3 * x ** 3 - y ** 2 + 2\\ndisplay(Integral(f, (x, 0, 2), (y, 0, 1)))\\ndisplay(integrate(f, (x, 0, 2), (y, 0, 1)))\";\n",
       "                var nbb_formatted_code = \"# double integrals\\nf = 3 * x ** 3 - y ** 2 + 2\\ndisplay(Integral(f, (x, 0, 2), (y, 0, 1)))\\ndisplay(integrate(f, (x, 0, 2), (y, 0, 1)))\";\n",
       "                var nbb_cells = Jupyter.notebook.get_cells();\n",
       "                for (var i = 0; i < nbb_cells.length; ++i) {\n",
       "                    if (nbb_cells[i].input_prompt_number == nbb_cell_id) {\n",
       "                        if (nbb_cells[i].get_text() == nbb_unformatted_code) {\n",
       "                             nbb_cells[i].set_text(nbb_formatted_code);\n",
       "                        }\n",
       "                        break;\n",
       "                    }\n",
       "                }\n",
       "            }, 500);\n",
       "            "
      ],
      "text/plain": [
       "<IPython.core.display.Javascript object>"
      ]
     },
     "metadata": {},
     "output_type": "display_data"
    }
   ],
   "source": [
    "# double integrals\n",
    "f = 3 * x ** 3 - y ** 2 + 2\n",
    "display(Integral(f, (x, 0, 2), (y, 0, 1)))\n",
    "display(integrate(f, (x, 0, 2), (y, 0, 1)))"
   ]
  },
  {
   "cell_type": "markdown",
   "metadata": {},
   "source": [
    "Graphing boundaries.\n",
    "$$\\int\\limits_{0}^{1}\\int\\limits_{- x}^{x^{2}} x y^{2}\\, dy\\, dx$$\n"
   ]
  },
  {
   "cell_type": "code",
   "execution_count": 45,
   "metadata": {},
   "outputs": [
    {
     "data": {
      "image/png": "[encoded data removed]",
      "text/plain": [
       "<Figure size 432x288 with 1 Axes>"
      ]
     },
     "metadata": {
      "needs_background": "light"
     },
     "output_type": "display_data"
    },
    {
     "data": {
      "application/javascript": [
       "\n",
       "            setTimeout(function() {\n",
       "                var nbb_cell_id = 45;\n",
       "                var nbb_unformatted_code = \"\\\"\\\"\\\"\\nThe first two parameters is the range for the x and y coordinates. In this case\\nI want the graph to be from x = -1 to x = 1 and y = -1 to y = 1. The last two\\nparameters are for the integral boundaries. They should be either numpy functions or constants.\\nIn this example, the inner integral boundaries are y = -x and y = x**2, therefore it is inputted as\\n[\\\"x**2\\\", \\\"-x\\\"]. Same goes with the outer integral, [\\\"1\\\", \\\"0\\\"].\\n\\\"\\\"\\\"\\ndraw_boundaries([-1, 1], [-1, 1], [\\\"1\\\", \\\"0\\\"], [\\\"x**2\\\", \\\"-x\\\"])\";\n",
       "                var nbb_formatted_code = \"\\\"\\\"\\\"\\nThe first two parameters is the range for the x and y coordinates. In this case\\nI want the graph to be from x = -1 to x = 1 and y = -1 to y = 1. The last two\\nparameters are for the integral boundaries. They should be either numpy functions or constants.\\nIn this example, the inner integral boundaries are y = -x and y = x**2, therefore it is inputted as\\n[\\\"x**2\\\", \\\"-x\\\"]. Same goes with the outer integral, [\\\"1\\\", \\\"0\\\"].\\n\\\"\\\"\\\"\\ndraw_boundaries([-1, 1], [-1, 1], [\\\"1\\\", \\\"0\\\"], [\\\"x**2\\\", \\\"-x\\\"])\";\n",
       "                var nbb_cells = Jupyter.notebook.get_cells();\n",
       "                for (var i = 0; i < nbb_cells.length; ++i) {\n",
       "                    if (nbb_cells[i].input_prompt_number == nbb_cell_id) {\n",
       "                        if (nbb_cells[i].get_text() == nbb_unformatted_code) {\n",
       "                             nbb_cells[i].set_text(nbb_formatted_code);\n",
       "                        }\n",
       "                        break;\n",
       "                    }\n",
       "                }\n",
       "            }, 500);\n",
       "            "
      ],
      "text/plain": [
       "<IPython.core.display.Javascript object>"
      ]
     },
     "metadata": {},
     "output_type": "display_data"
    }
   ],
   "source": [
    "\"\"\"\n",
    "The first two parameters is the range for the x and y coordinates. In this case\n",
    "I want the graph to be from x = -1 to x = 1 and y = -1 to y = 1. The last two\n",
    "parameters are for the integral boundaries. They should be either numpy functions or constants.\n",
    "In this example, the inner integral boundaries are y = -x and y = x**2, therefore it is inputted as\n",
    "[\"x**2\", \"-x\"]. Same goes with the outer integral, [\"1\", \"0\"].\n",
    "\"\"\"\n",
    "draw_boundaries([-1, 1], [-1, 1], [\"1\", \"0\"], [\"x**2\", \"-x\"])"
   ]
  },
  {
   "cell_type": "markdown",
   "metadata": {},
   "source": [
    "## 14.5 Triple Integrals"
   ]
  },
  {
   "cell_type": "code",
   "execution_count": 46,
   "metadata": {},
   "outputs": [
    {
     "data": {
      "text/latex": [
       "$\\displaystyle \\int\\limits_{1}^{3}\\int\\limits_{0}^{1}\\int\\limits_{0}^{z} y e^{- z^{3}}\\, dy\\, dz\\, dx$"
      ],
      "text/plain": [
       "Integral(y*exp(-z**3), (y, 0, z), (z, 0, 1), (x, 1, 3))"
      ]
     },
     "metadata": {},
     "output_type": "display_data"
    },
    {
     "data": {
      "text/latex": [
       "$\\displaystyle \\frac{1}{3} - \\frac{1}{3 e}$"
      ],
      "text/plain": [
       "1/3 - exp(-1)/3"
      ]
     },
     "metadata": {},
     "output_type": "display_data"
    },
    {
     "data": {
      "application/javascript": [
       "\n",
       "            setTimeout(function() {\n",
       "                var nbb_cell_id = 46;\n",
       "                var nbb_unformatted_code = \"# Triple integrals\\nf = y * exp(-(z ** 3))\\ndisplay(Integral(f, (y, 0, z), (z, 0, 1), (x, 1, 3)))\\ndisplay(integrate(f, (y, 0, z), (z, 0, 1), (x, 1, 3)))\";\n",
       "                var nbb_formatted_code = \"# Triple integrals\\nf = y * exp(-(z ** 3))\\ndisplay(Integral(f, (y, 0, z), (z, 0, 1), (x, 1, 3)))\\ndisplay(integrate(f, (y, 0, z), (z, 0, 1), (x, 1, 3)))\";\n",
       "                var nbb_cells = Jupyter.notebook.get_cells();\n",
       "                for (var i = 0; i < nbb_cells.length; ++i) {\n",
       "                    if (nbb_cells[i].input_prompt_number == nbb_cell_id) {\n",
       "                        if (nbb_cells[i].get_text() == nbb_unformatted_code) {\n",
       "                             nbb_cells[i].set_text(nbb_formatted_code);\n",
       "                        }\n",
       "                        break;\n",
       "                    }\n",
       "                }\n",
       "            }, 500);\n",
       "            "
      ],
      "text/plain": [
       "<IPython.core.display.Javascript object>"
      ]
     },
     "metadata": {},
     "output_type": "display_data"
    }
   ],
   "source": [
    "# Triple integrals\n",
    "f = y * exp(-(z ** 3))\n",
    "display(Integral(f, (y, 0, z), (z, 0, 1), (x, 1, 3)))\n",
    "display(integrate(f, (y, 0, z), (z, 0, 1), (x, 1, 3)))"
   ]
  },
  {
   "cell_type": "markdown",
   "metadata": {},
   "source": [
    "## 14.7 Jacobicans"
   ]
  },
  {
   "cell_type": "markdown",
   "metadata": {},
   "source": [
    "Finding the Jacobian. \n",
    "\n",
    "$$ \\frac{\\partial (x,y,z)}{\\partial (\\rho,\\theta,\\phi)}=\n",
    "\\begin{equation*}\n",
    "\\begin{bmatrix}\n",
    "\\frac{\\partial x}{\\partial \\rho} & \\frac{\\partial x}{\\partial \\theta} & \\frac{\\partial x}{\\partial \\phi} \\\\\n",
    "\\frac{\\partial y}{\\partial \\rho} & \\frac{\\partial y}{\\partial \\theta} & \\frac{\\partial y}{\\partial \\phi} \\\\\n",
    "\\frac{\\partial z}{\\partial \\rho} & \\frac{\\partial z}{\\partial \\theta} & \\frac{\\partial z}{\\partial \\phi}\n",
    "\\end{bmatrix}\n",
    "=\n",
    "\\begin{bmatrix}\n",
    "\\sin{\\phi}\\cos{\\theta} & -\\rho\\sin{\\phi}\\sin{\\theta} & \\rho\\cos{\\phi}\\cos{\\theta}  \\\\\n",
    "\\sin{\\phi}\\sin{\\theta} & \\rho\\sin{\\phi}\\cos{\\theta} & \\rho\\cos{\\phi}\\sin{\\theta} \\\\\n",
    "\\cos{\\phi} & 0 & -r\\sin{\\phi}\n",
    "\\end{bmatrix}\n",
    "\\end{equation*}$$\n"
   ]
  },
  {
   "cell_type": "code",
   "execution_count": 47,
   "metadata": {},
   "outputs": [
    {
     "data": {
      "text/latex": [
       "$\\displaystyle \\rho^{2} \\sin{\\left(\\phi \\right)}$"
      ],
      "text/plain": [
       "rho**2*sin(phi)"
      ]
     },
     "execution_count": 47,
     "metadata": {},
     "output_type": "execute_result"
    },
    {
     "data": {
      "application/javascript": [
       "\n",
       "            setTimeout(function() {\n",
       "                var nbb_cell_id = 47;\n",
       "                var nbb_unformatted_code = \"rho, phi, theta = symbols(\\\"rho phi theta\\\")  # sympy will make them the Greek symbols\\n\\n# Finding the Jacobian of the spherical conversions. \\nfind_jacobian(\\n    [rho * sin(phi) * cos(theta), rho * sin(phi) * sin(theta), rho * cos(phi)],\\n    [rho, phi, theta],\\n)\";\n",
       "                var nbb_formatted_code = \"rho, phi, theta = symbols(\\\"rho phi theta\\\")  # sympy will make them the Greek symbols\\n\\n# Finding the Jacobian of the spherical conversions.\\nfind_jacobian(\\n    [rho * sin(phi) * cos(theta), rho * sin(phi) * sin(theta), rho * cos(phi)],\\n    [rho, phi, theta],\\n)\";\n",
       "                var nbb_cells = Jupyter.notebook.get_cells();\n",
       "                for (var i = 0; i < nbb_cells.length; ++i) {\n",
       "                    if (nbb_cells[i].input_prompt_number == nbb_cell_id) {\n",
       "                        if (nbb_cells[i].get_text() == nbb_unformatted_code) {\n",
       "                             nbb_cells[i].set_text(nbb_formatted_code);\n",
       "                        }\n",
       "                        break;\n",
       "                    }\n",
       "                }\n",
       "            }, 500);\n",
       "            "
      ],
      "text/plain": [
       "<IPython.core.display.Javascript object>"
      ]
     },
     "metadata": {},
     "output_type": "display_data"
    }
   ],
   "source": [
    "rho, phi, theta = symbols(\"rho phi theta\")  # sympy will make them the Greek symbols\n",
    "\n",
    "# Finding the Jacobian of the spherical conversions. \n",
    "find_jacobian(\n",
    "    [rho * sin(phi) * cos(theta), rho * sin(phi) * sin(theta), rho * cos(phi)],\n",
    "    [rho, phi, theta],\n",
    ")\n"
   ]
  }
 ],
 "metadata": {
  "kernelspec": {
   "display_name": "Python 3",
   "language": "python",
   "name": "python3"
  },
  "language_info": {
   "codemirror_mode": {
    "name": "ipython",
    "version": 3
   },
   "file_extension": ".py",
   "mimetype": "text/x-python",
   "name": "python",
   "nbconvert_exporter": "python",
   "pygments_lexer": "ipython3",
   "version": "3.7.3"
  }
 },
 "nbformat": 4,
 "nbformat_minor": 2
}
