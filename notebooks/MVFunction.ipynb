{
 "cells": [
  {
   "cell_type": "markdown",
   "metadata": {},
   "source": [
    "# Multivariate Function Module"
   ]
  },
  {
   "cell_type": "markdown",
   "metadata": {},
   "source": [
    "## Table of Content\n",
    "+ [Gradient](#gradient)\n",
    "+ [Directional Derivatives](#dd)\n",
    "    + [More info](#ddinfo)\n",
    "+ [Tangent Plane and Normal Line](#tangent)\n",
    "+ [Linearization](#linear)"
   ]
  },
  {
   "cell_type": "code",
   "execution_count": 1,
   "metadata": {},
   "outputs": [],
   "source": [
    "from axiomathbf.MVFunction import MVFunction\n",
    "from axiomathbf.Vector import Vector\n",
    "from sympy import *"
   ]
  },
  {
   "cell_type": "markdown",
   "metadata": {},
   "source": [
    "## <div id=\"gradient\">Gradient</div>"
   ]
  },
  {
   "cell_type": "code",
   "execution_count": 2,
   "metadata": {},
   "outputs": [
    {
     "data": {
      "text/latex": [
       "$\\displaystyle -6\\hat{i}+5\\hat{j}+0\\hat{k}$"
      ],
      "text/plain": [
       "<IPython.core.display.Math object>"
      ]
     },
     "metadata": {},
     "output_type": "display_data"
    },
    {
     "data": {
      "text/plain": []
     },
     "execution_count": 2,
     "metadata": {},
     "output_type": "execute_result"
    }
   ],
   "source": [
    "x,y,z = symbols(\"x y z\")\n",
    "f = MVFunction(3*x*y-y**2*x**3, Point(1,-1,0))\n",
    "f.getGradient()"
   ]
  },
  {
   "cell_type": "code",
   "execution_count": 3,
   "metadata": {},
   "outputs": [
    {
     "data": {
      "text/latex": [
       "$\\displaystyle 12\\hat{i}+6\\hat{j}+33\\hat{k}$"
      ],
      "text/plain": [
       "<IPython.core.display.Math object>"
      ]
     },
     "metadata": {},
     "output_type": "display_data"
    },
    {
     "data": {
      "text/plain": []
     },
     "execution_count": 3,
     "metadata": {},
     "output_type": "execute_result"
    }
   ],
   "source": [
    "f = MVFunction(4*x*y*z-y**2*z**3+4*z**3*y, Point(2,3,1))\n",
    "f.getGradient()"
   ]
  },
  {
   "cell_type": "markdown",
   "metadata": {},
   "source": [
    "## <div id=\"#dd\">Directional Derivatives</div>"
   ]
  },
  {
   "cell_type": "code",
   "execution_count": 4,
   "metadata": {},
   "outputs": [
    {
     "data": {
      "text/latex": [
       "$\\displaystyle 16 \\sqrt{2}$"
      ],
      "text/plain": [
       "16*sqrt(2)"
      ]
     },
     "execution_count": 4,
     "metadata": {},
     "output_type": "execute_result"
    }
   ],
   "source": [
    "x,y,z = symbols(\"x y z\")\n",
    "f = MVFunction(x**4-y**4, Point(0,-2,0))\n",
    "f.getDirectionalDiff(Vector(sqrt(2)/2, sqrt(2)/2))"
   ]
  },
  {
   "cell_type": "code",
   "execution_count": 5,
   "metadata": {},
   "outputs": [
    {
     "data": {
      "text/latex": [
       "$\\displaystyle - \\frac{\\sqrt{2}}{2}$"
      ],
      "text/plain": [
       "-sqrt(2)/2"
      ]
     },
     "execution_count": 5,
     "metadata": {},
     "output_type": "execute_result"
    }
   ],
   "source": [
    "g = MVFunction(y*sin(x), Point(pi/2,1,0))\n",
    "g.getDirectionalDiff(Vector(1,-1,0))"
   ]
  },
  {
   "cell_type": "code",
   "execution_count": 6,
   "metadata": {},
   "outputs": [
    {
     "data": {
      "text/latex": [
       "$\\displaystyle - \\frac{\\sqrt{14} e}{7}$"
      ],
      "text/plain": [
       "-sqrt(14)*E/7"
      ]
     },
     "execution_count": 6,
     "metadata": {},
     "output_type": "execute_result"
    }
   ],
   "source": [
    "h = MVFunction(E**x*cos(y*z), Point(1,pi,0))\n",
    "h.getDirectionalDiff(Vector(-2,1,-3))"
   ]
  },
  {
   "cell_type": "markdown",
   "metadata": {},
   "source": [
    "## <div id=\"ddinfo\">Directional Derivatives (more info)</div>"
   ]
  },
  {
   "cell_type": "code",
   "execution_count": 7,
   "metadata": {},
   "outputs": [
    {
     "data": {
      "text/latex": [
       "$\\displaystyle \\frac{3 \\sqrt{13}}{13}\\hat{i}+\\frac{2 \\sqrt{13}}{13}\\hat{j}+0\\hat{k}$"
      ],
      "text/plain": [
       "<IPython.core.display.Math object>"
      ]
     },
     "metadata": {},
     "output_type": "display_data"
    },
    {
     "data": {
      "text/plain": [
       "(3*sqrt(13)*exp(9), )"
      ]
     },
     "execution_count": 7,
     "metadata": {},
     "output_type": "execute_result"
    }
   ],
   "source": [
    "g = MVFunction(E**(x*y**2), Point(1,3,0))\n",
    "g.getDirectionalDiffInfo()"
   ]
  },
  {
   "cell_type": "code",
   "execution_count": 8,
   "metadata": {},
   "outputs": [
    {
     "data": {
      "text/latex": [
       "$\\displaystyle \\frac{3 \\sqrt{29}}{29}\\hat{i}+- \\frac{2 \\sqrt{29}}{29}\\hat{j}+\\frac{4 \\sqrt{29}}{29}\\hat{k}$"
      ],
      "text/plain": [
       "<IPython.core.display.Math object>"
      ]
     },
     "metadata": {},
     "output_type": "display_data"
    },
    {
     "data": {
      "text/plain": [
       "(-4*sqrt(29), )"
      ]
     },
     "execution_count": 8,
     "metadata": {},
     "output_type": "execute_result"
    }
   ],
   "source": [
    "g = MVFunction(x**3*y*z**2, Point(2,-1,1))\n",
    "g.getDirectionalDiffInfo(False)"
   ]
  },
  {
   "cell_type": "markdown",
   "metadata": {},
   "source": [
    "## <div id=\"tangent\">Tangent Plane and Normal Lines</div>"
   ]
  },
  {
   "cell_type": "code",
   "execution_count": 9,
   "metadata": {},
   "outputs": [
    {
     "data": {
      "text/latex": [
       "$\\displaystyle \\frac{x + y + z - e^{2}}{e^{2}}$"
      ],
      "text/plain": [
       "(x + y + z - exp(2))*exp(-2)"
      ]
     },
     "execution_count": 9,
     "metadata": {},
     "output_type": "execute_result"
    }
   ],
   "source": [
    "s = MVFunction(ln(x+y+z), Point(-1,E**2,1))\n",
    "s.getTangentPlane()"
   ]
  },
  {
   "cell_type": "code",
   "execution_count": 10,
   "metadata": {},
   "outputs": [
    {
     "data": {
      "text/latex": [
       "$\\displaystyle \\vec{\\ell(t)} = \\langle-1, e^{2}, 1\\rangle +t \\langle  e^{-2}, e^{-2}, e^{-2}\\rangle$"
      ],
      "text/plain": [
       "<IPython.core.display.Math object>"
      ]
     },
     "metadata": {},
     "output_type": "display_data"
    }
   ],
   "source": [
    "s.getNormalLine()"
   ]
  },
  {
   "cell_type": "code",
   "execution_count": 11,
   "metadata": {},
   "outputs": [
    {
     "data": {
      "text/latex": [
       "$\\displaystyle \\frac{2 \\sqrt{3} \\left(x + y + z - \\sqrt{3}\\right)}{3}$"
      ],
      "text/plain": [
       "2*sqrt(3)*(x + y + z - sqrt(3))/3"
      ]
     },
     "execution_count": 11,
     "metadata": {},
     "output_type": "execute_result"
    }
   ],
   "source": [
    "s = MVFunction(x**2+y**2+z**2, Point(sqrt(3)/3,sqrt(3)/3,sqrt(3)/3))\n",
    "s.getTangentPlane()"
   ]
  },
  {
   "cell_type": "code",
   "execution_count": 12,
   "metadata": {},
   "outputs": [
    {
     "data": {
      "text/latex": [
       "$\\displaystyle \\vec{\\ell(t)} = \\langle\\frac{\\sqrt{3}}{3}, \\frac{\\sqrt{3}}{3}, \\frac{\\sqrt{3}}{3}\\rangle +t \\langle  \\frac{2 \\sqrt{3}}{3}, \\frac{2 \\sqrt{3}}{3}, \\frac{2 \\sqrt{3}}{3}\\rangle$"
      ],
      "text/plain": [
       "<IPython.core.display.Math object>"
      ]
     },
     "metadata": {},
     "output_type": "display_data"
    }
   ],
   "source": [
    "s.getNormalLine()"
   ]
  },
  {
   "cell_type": "markdown",
   "metadata": {},
   "source": [
    "## <div id=\"linear\">Linearization</div>"
   ]
  },
  {
   "cell_type": "code",
   "execution_count": 13,
   "metadata": {},
   "outputs": [
    {
     "data": {
      "text/latex": [
       "$\\displaystyle 2 x - 4 y + 3$"
      ],
      "text/plain": [
       "2*x - 4*y + 3"
      ]
     },
     "execution_count": 13,
     "metadata": {},
     "output_type": "execute_result"
    }
   ],
   "source": [
    "f = MVFunction(x**2 - y**2, Point(1,2,0))\n",
    "f.getLinearization()"
   ]
  },
  {
   "cell_type": "code",
   "execution_count": 14,
   "metadata": {},
   "outputs": [
    {
     "data": {
      "text/latex": [
       "$\\displaystyle - 2 x + 4 y + 3$"
      ],
      "text/plain": [
       "-2*x + 4*y + 3"
      ]
     },
     "execution_count": 14,
     "metadata": {},
     "output_type": "execute_result"
    }
   ],
   "source": [
    "f = MVFunction((x+y)/(x-y), Point(2,1,0))\n",
    "f.getLinearization()"
   ]
  },
  {
   "cell_type": "code",
   "execution_count": 15,
   "metadata": {},
   "outputs": [
    {
     "data": {
      "text/latex": [
       "$\\displaystyle 3 x - 3 \\log{\\left(3 \\right)} + 3$"
      ],
      "text/plain": [
       "3*x - 3*log(3) + 3"
      ]
     },
     "execution_count": 15,
     "metadata": {},
     "output_type": "execute_result"
    }
   ],
   "source": [
    "f = MVFunction(E**x*sin(y), Point(ln(3), pi/2, 0))\n",
    "f.getLinearization()"
   ]
  }
 ],
 "metadata": {
  "kernelspec": {
   "display_name": "Python 3",
   "language": "python",
   "name": "python3"
  },
  "language_info": {
   "codemirror_mode": {
    "name": "ipython",
    "version": 3
   },
   "file_extension": ".py",
   "mimetype": "text/x-python",
   "name": "python",
   "nbconvert_exporter": "python",
   "pygments_lexer": "ipython3",
   "version": "3.7.3"
  }
 },
 "nbformat": 4,
 "nbformat_minor": 2
}
