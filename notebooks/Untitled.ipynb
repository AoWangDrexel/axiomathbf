{
 "cells": [
  {
   "cell_type": "code",
   "execution_count": 142,
   "metadata": {},
   "outputs": [],
   "source": [
    "from sympy import *\n",
    "x,y,z = symbols(\"x y z\")"
   ]
  },
  {
   "cell_type": "code",
   "execution_count": 159,
   "metadata": {},
   "outputs": [],
   "source": [
    "g = x**2*y-6*y**2-3*x**2"
   ]
  },
  {
   "cell_type": "code",
   "execution_count": 160,
   "metadata": {},
   "outputs": [
    {
     "data": {
      "text/latex": [
       "$\\displaystyle x^{2} y - 3 x^{2} - 6 y^{2}$"
      ],
      "text/plain": [
       "x**2*y - 3*x**2 - 6*y**2"
      ]
     },
     "execution_count": 160,
     "metadata": {},
     "output_type": "execute_result"
    }
   ],
   "source": [
    "g"
   ]
  },
  {
   "cell_type": "code",
   "execution_count": 161,
   "metadata": {},
   "outputs": [],
   "source": [
    "fx = g.diff(x)\n",
    "fy = g.diff(y)"
   ]
  },
  {
   "cell_type": "code",
   "execution_count": 208,
   "metadata": {},
   "outputs": [
    {
     "data": {
      "text/latex": [
       "$\\displaystyle 2 x y - 6 x$"
      ],
      "text/plain": [
       "2*x*y - 6*x"
      ]
     },
     "metadata": {},
     "output_type": "display_data"
    },
    {
     "data": {
      "text/latex": [
       "$\\displaystyle x^{2} - 12 y$"
      ],
      "text/plain": [
       "x**2 - 12*y"
      ]
     },
     "metadata": {},
     "output_type": "display_data"
    },
    {
     "name": "stdout",
     "output_type": "stream",
     "text": [
      "[(x, x**2/12)] [(0, y), (x, 3)]\n"
     ]
    }
   ],
   "source": [
    "display(fx, fy)\n",
    "fxSolutions = solve(fx, (x, y))\n",
    "fySolutions = solve(fy, (x, y))\n",
    "print(fySolutions, fxSolutions)"
   ]
  },
  {
   "cell_type": "code",
   "execution_count": 214,
   "metadata": {},
   "outputs": [
    {
     "name": "stdout",
     "output_type": "stream",
     "text": [
      "[{y: x**2/12}] [{x: 0}, {y: 3}]\n",
      "{y: x**2/12}\n",
      "[(0, 0), (-6, 3), (6, 3)]\n"
     ]
    }
   ],
   "source": [
    "solutions = [] # sympy.core.mul.Mul\n",
    "\n",
    "print(fySolutions, fxSolutions)\n",
    "def findSolution(fx, fy):\n",
    "    fxSolutions = solve(fx, (x, y), dict=True)\n",
    "    fySolutions = solve(fy, (x, y), dict=True)\n",
    "    \n",
    "    for solSet in fySolutions:\n",
    "        print(solSet)\n",
    "        for var in solSet:\n",
    "            if type(solSet[var]) == Mul:\n",
    "                for solSet in fxSolutions:\n",
    "                    for var in solSet:\n",
    "                        foundSet = solve(fy.subs(var, solSet[var]), (y if var == x else x), dict=True)\n",
    "                        for sol in foundSet:\n",
    "                            for var2 in sol:\n",
    "                                solutions.append((solSet[var] if var == x else sol[var2],\n",
    "                                                  sol[var2] if var2 == y else solSet[var]))\n",
    "        \n",
    "print(solutions)"
   ]
  },
  {
   "cell_type": "code",
   "execution_count": 207,
   "metadata": {},
   "outputs": [
    {
     "data": {
      "text/plain": [
       "False"
      ]
     },
     "execution_count": 207,
     "metadata": {},
     "output_type": "execute_result"
    }
   ],
   "source": []
  },
  {
   "cell_type": "code",
   "execution_count": 197,
   "metadata": {},
   "outputs": [
    {
     "data": {
      "text/plain": [
       "[{y: 0}]"
      ]
     },
     "execution_count": 197,
     "metadata": {},
     "output_type": "execute_result"
    }
   ],
   "source": [
    "fy1 = solve(fy.subs(x,fxSolutions[0][x]), y, dict=True)\n",
    "fy1\n"
   ]
  },
  {
   "cell_type": "code",
   "execution_count": 90,
   "metadata": {},
   "outputs": [
    {
     "data": {
      "text/plain": [
       "[{x: -6}, {x: 6}]"
      ]
     },
     "execution_count": 90,
     "metadata": {},
     "output_type": "execute_result"
    }
   ],
   "source": [
    "fy2 = solve(fy.subs(y, fxSolutions[1][y]), x, dict=True)\n",
    "fy2"
   ]
  },
  {
   "cell_type": "code",
   "execution_count": 35,
   "metadata": {},
   "outputs": [
    {
     "data": {
      "text/latex": [
       "$\\displaystyle 30 x^{4}$"
      ],
      "text/plain": [
       "30*x**4"
      ]
     },
     "metadata": {},
     "output_type": "display_data"
    },
    {
     "data": {
      "text/latex": [
       "$\\displaystyle 30 y^{4}$"
      ],
      "text/plain": [
       "30*y**4"
      ]
     },
     "metadata": {},
     "output_type": "display_data"
    },
    {
     "data": {
      "text/latex": [
       "$\\displaystyle 0$"
      ],
      "text/plain": [
       "0"
      ]
     },
     "metadata": {},
     "output_type": "display_data"
    }
   ],
   "source": [
    "fxx = fx.diff(x)\n",
    "fyy = fy.diff(y)\n",
    "fxy = fx.diff(y)\n",
    "display(fxx, fyy, fxy)\n",
    "D = fxx*fyy - fxy**2"
   ]
  },
  {
   "cell_type": "code",
   "execution_count": 36,
   "metadata": {},
   "outputs": [
    {
     "data": {
      "text/latex": [
       "$\\displaystyle 900 x^{4} y^{4}$"
      ],
      "text/plain": [
       "900*x**4*y**4"
      ]
     },
     "execution_count": 36,
     "metadata": {},
     "output_type": "execute_result"
    }
   ],
   "source": [
    "D"
   ]
  },
  {
   "cell_type": "code",
   "execution_count": null,
   "metadata": {},
   "outputs": [],
   "source": []
  }
 ],
 "metadata": {
  "kernelspec": {
   "display_name": "Python 3",
   "language": "python",
   "name": "python3"
  },
  "language_info": {
   "codemirror_mode": {
    "name": "ipython",
    "version": 3
   },
   "file_extension": ".py",
   "mimetype": "text/x-python",
   "name": "python",
   "nbconvert_exporter": "python",
   "pygments_lexer": "ipython3",
   "version": "3.7.3"
  }
 },
 "nbformat": 4,
 "nbformat_minor": 2
}
